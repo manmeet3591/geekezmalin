{
 "cells": [
  {
   "cell_type": "code",
   "execution_count": null,
   "metadata": {},
   "outputs": [],
   "source": [
    "# get the World Ocean Atlas annual T/S data\n",
    "# wget in disguise in the Makefile\n",
    "!make getdata"
   ]
  },
  {
   "cell_type": "code",
   "execution_count": null,
   "metadata": {},
   "outputs": [],
   "source": [
    "# we need to compile the fortran code into something python can use\n",
    "!make"
   ]
  },
  {
   "cell_type": "code",
   "execution_count": null,
   "metadata": {},
   "outputs": [],
   "source": [
    "import xarray as xr\n",
    "import lib_watermass\n",
    "import numpy as np"
   ]
  },
  {
   "cell_type": "code",
   "execution_count": null,
   "metadata": {},
   "outputs": [],
   "source": [
    "#---------------------------------------------------------------\n",
    "# sample data set (use make getdata to download WOA annual data)\n",
    "fnameT = 'woa13_5564_t00_01.nc'\n",
    "fnameS = 'woa13_5564_s00_01.nc'\n",
    "\n",
    "woa = xr.open_mfdataset([fnameT,fnameS],decode_times=False)"
   ]
  },
  {
   "cell_type": "code",
   "execution_count": null,
   "metadata": {},
   "outputs": [],
   "source": [
    "woa.t_an"
   ]
  },
  {
   "cell_type": "code",
   "execution_count": null,
   "metadata": {},
   "outputs": [],
   "source": [
    "#---------------------------------------------------------------\n",
    "# compute metrics (dx,dy,dz) of ocean grid cells and mask\n",
    "Rearth = 6378e+3\n",
    "nx = woa.lon.shape[0]\n",
    "ny = woa.lat.shape[0]\n",
    "nz = woa.depth.shape[0]\n",
    "\n",
    "dxflat = (2*np.pi*Rearth/360) * (woa.lon_bnds[:,1] - woa.lon_bnds[:,0])\n",
    "dyflat = (2*np.pi*Rearth/360) * (woa.lat_bnds[:,1] - woa.lat_bnds[:,0])\n",
    "dzcolumn = (woa.depth_bnds[:,1] - woa.depth_bnds[:,0]).values\n",
    "\n",
    "dxflat2d, dyflat2d = np.meshgrid(dxflat,dyflat)\n",
    "lon2d, lat2d = np.meshgrid(woa.lon,woa.lat)\n",
    "\n",
    "dx = dxflat2d * np.cos(2*np.pi*lat2d/360)\n",
    "dy = dyflat2d\n",
    "\n",
    "dz = np.empty((nz,ny,nx))\n",
    "for jj in np.arange(ny):\n",
    "        for ji in np.arange(nx):\n",
    "                dz[:,jj,ji] = dzcolumn"
   ]
  },
  {
   "cell_type": "code",
   "execution_count": null,
   "metadata": {},
   "outputs": [],
   "source": [
    "#---------------------------------------------------------------\n",
    "# compute mask from missing value\n",
    "mask = np.ma.array(np.ones(woa.t_an.squeeze().shape))\n",
    "mask[np.isnan(woa.t_an.values.squeeze())] = 0"
   ]
  },
  {
   "cell_type": "code",
   "execution_count": null,
   "metadata": {},
   "outputs": [],
   "source": [
    "# Quick check on the mask\n",
    "%pylab inline\n",
    "import matplotlib.pylab as plt\n",
    "plt.figure()\n",
    "plt.pcolormesh(mask[0,:,:]) ; plt.colorbar()\n",
    "plt.show()"
   ]
  },
  {
   "cell_type": "code",
   "execution_count": null,
   "metadata": {},
   "outputs": [],
   "source": [
    "#---------------------------------------------------------------\n",
    "# sanity checks\n",
    "# compute water volume between 50C and 55C (never observed)\n",
    "wmass_testimpossible = lib_watermass.volume_watermass_from_ts(dx.transpose(),dy.transpose(),dz.transpose(),\\\n",
    "                                                              woa.t_an.transpose(),\\\n",
    "                                                              woa.s_an.transpose(),\\\n",
    "                                                              50.,55.,0.,40.)"
   ]
  },
  {
   "cell_type": "code",
   "execution_count": null,
   "metadata": {},
   "outputs": [],
   "source": [
    "# compute all possible volume\n",
    "wmass_testall = lib_watermass.volume_watermass_from_ts(dx.transpose(),dy.transpose(),dz.transpose(),\\\n",
    "                                                       woa.t_an.transpose(),\\\n",
    "                                                       woa.s_an.transpose(),\\\n",
    "                                                       -10.,100.,0.,50.)\n",
    "\n",
    "# and compare to volume from metrics\n",
    "wmass_from_metrics = (dx * dy * mask * dz).sum()\n",
    "\n",
    "print('---Control checks---')\n",
    "print('Impossible water mass, volume =', wmass_testimpossible)\n",
    "print('All possible water, volume =', wmass_testall)\n",
    "print('volume from scale factors = ', wmass_from_metrics)"
   ]
  },
  {
   "cell_type": "code",
   "execution_count": null,
   "metadata": {},
   "outputs": [],
   "source": [
    "#---------------------------------------------------------------\n",
    "# now let's learn some stuff\n",
    "# compute volume of water 20C < T < 40C\n",
    "wmass_20to40C = lib_watermass.volume_watermass_from_ts(dx.transpose(),dy.transpose(),dz.transpose(),\\\n",
    "                                                       woa.t_an.transpose(),\\\n",
    "                                                       woa.s_an.transpose(),\\\n",
    "                                                       20.,40.,0.,40.)\n",
    "# compute volume of water 10C < T < 20C\n",
    "wmass_10to20C = lib_watermass.volume_watermass_from_ts(dx.transpose(),dy.transpose(),dz.transpose(),\\\n",
    "                                                       woa.t_an.transpose(),woa.s_an.transpose(),\\\n",
    "                                                       10.,20.,0.,40.)\n",
    "# compute volume of water 0C < T < 10C\n",
    "wmass_0to10C = lib_watermass.volume_watermass_from_ts(dx.transpose(),dy.transpose(),dz.transpose(),\\\n",
    "                                                      woa.t_an.transpose(),woa.s_an.transpose(),\\\n",
    "                                                      0.,10.,0.,40.)\n",
    "\n",
    "print('---Volume of ocean in temperature ranges---')\n",
    "print('The percentage of ocean waters 20C < T < 40C is ', 100 * wmass_20to40C / wmass_from_metrics, '%')\n",
    "print('The percentage of ocean waters 10C < T < 20C is ', 100 * wmass_10to20C / wmass_from_metrics, '%')\n",
    "print('The percentage of ocean waters  0C < T < 10C is ', 100 * wmass_0to10C / wmass_from_metrics, '%')"
   ]
  },
  {
   "cell_type": "code",
   "execution_count": null,
   "metadata": {},
   "outputs": [],
   "source": [
    "# note on I/O and dimensions\n",
    "\n",
    "#---------------------------------------------------------------\n",
    "\n",
    "wmass_20to40C = lib_watermass.volume_watermass_from_ts(dx.transpose(),dy.transpose(),dz.transpose(),\\\n",
    "                                                       woa.t_an.transpose(),\\\n",
    "                                                       woa.s_an.transpose(),\\\n",
    "                                                       20.,40.,0.,40.)\n",
    "\n",
    "print('Solution from v1 is ', 100 * wmass_20to40C / wmass_from_metrics, '%')\n",
    "\n",
    "wmass_20to40C = lib_watermass.volume_watermass_from_ts_v2(dx.transpose(),dy.transpose(),dz.transpose(),\\\n",
    "                                                       woa.t_an.transpose(),\\\n",
    "                                                       woa.s_an.transpose(),\\\n",
    "                                                       20.,40.,0.,40.,nx,ny,nz)\n",
    "\n",
    "\n",
    "print('Solution from v2 is ', 100 * wmass_20to40C / wmass_from_metrics, '%')\n",
    "\n",
    "wmass_20to40C = lib_watermass.volume_watermass_from_ts_v2(dx.transpose(),dy.transpose(),dz.transpose(),\\\n",
    "                                                       woa.t_an.transpose(),\\\n",
    "                                                       woa.s_an.transpose(),\\\n",
    "                                                       20.,40.,0.,40.)\n",
    "\n",
    "print('Solution from v2 without nx,ny,nz is ', 100 * wmass_20to40C / wmass_from_metrics, '%')\n",
    "\n",
    "wmass_20to40C = lib_watermass.volume_watermass_from_ts_v3(dx,dy,dz,\\\n",
    "                                                       woa.t_an,\\\n",
    "                                                       woa.s_an,\\\n",
    "                                                       20.,40.,0.,40.)\n",
    "\n",
    "print('Solution from v3 without nx,ny,nz is ', 100 * wmass_20to40C / wmass_from_metrics, '%')"
   ]
  },
  {
   "cell_type": "code",
   "execution_count": null,
   "metadata": {},
   "outputs": [],
   "source": []
  },
  {
   "cell_type": "code",
   "execution_count": null,
   "metadata": {},
   "outputs": [],
   "source": []
  }
 ],
 "metadata": {
  "kernelspec": {
   "display_name": "Python 2",
   "language": "python",
   "name": "python2"
  },
  "language_info": {
   "codemirror_mode": {
    "name": "ipython",
    "version": 2
   },
   "file_extension": ".py",
   "mimetype": "text/x-python",
   "name": "python",
   "nbconvert_exporter": "python",
   "pygments_lexer": "ipython2",
   "version": "2.7.14"
  }
 },
 "nbformat": 4,
 "nbformat_minor": 2
}
