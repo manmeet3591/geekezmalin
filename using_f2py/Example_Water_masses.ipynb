{
 "cells": [
  {
   "cell_type": "markdown",
   "metadata": {},
   "source": [
    "# Computing water masses volume with f2py"
   ]
  },
  {
   "cell_type": "markdown",
   "metadata": {},
   "source": [
    "Tutorial for LDEO : pick if you are running on byrd (True) or not (False)"
   ]
  },
  {
   "cell_type": "code",
   "execution_count": 4,
   "metadata": {},
   "outputs": [],
   "source": [
    "byrd=False"
   ]
  },
  {
   "cell_type": "code",
   "execution_count": 5,
   "metadata": {},
   "outputs": [],
   "source": [
    "# get the World Ocean Atlas annual T/S data\n",
    "\n",
    "if not byrd:\n",
    "    # wget in disguise in the Makefile\n",
    "    !make getdata\n",
    "    woadir='./'\n",
    "else:\n",
    "    # if running on byrd, we are gonna use files stored in ~rdussin/demo_files/\n",
    "    woadir='~rdussin/demo_files/'"
   ]
  },
  {
   "cell_type": "code",
   "execution_count": 7,
   "metadata": {},
   "outputs": [],
   "source": [
    "# we need to compile the fortran code into something python can use\n",
    "!make > /dev/null"
   ]
  },
  {
   "cell_type": "code",
   "execution_count": 8,
   "metadata": {},
   "outputs": [],
   "source": [
    "import xarray as xr\n",
    "import lib_watermass\n",
    "import numpy as np"
   ]
  },
  {
   "cell_type": "code",
   "execution_count": 9,
   "metadata": {},
   "outputs": [],
   "source": [
    "#---------------------------------------------------------------\n",
    "# sample data set (use make getdata to download WOA annual data)\n",
    "fnameT = woadir + 'woa13_5564_t00_01.nc'\n",
    "fnameS = woadir + 'woa13_5564_s00_01.nc'\n",
    "\n",
    "woa = xr.open_mfdataset([fnameT,fnameS],decode_times=False)"
   ]
  },
  {
   "cell_type": "code",
   "execution_count": 10,
   "metadata": {},
   "outputs": [
    {
     "data": {
      "text/plain": [
       "<xarray.DataArray 't_an' (time: 1, depth: 102, lat: 180, lon: 360)>\n",
       "dask.array<shape=(1, 102, 180, 360), dtype=float32, chunksize=(1, 102, 180, 360)>\n",
       "Coordinates:\n",
       "  * lat      (lat) float32 -89.5 -88.5 -87.5 -86.5 -85.5 -84.5 -83.5 -82.5 ...\n",
       "  * lon      (lon) float32 -179.5 -178.5 -177.5 -176.5 -175.5 -174.5 -173.5 ...\n",
       "  * depth    (depth) float32 0.0 5.0 10.0 15.0 20.0 25.0 30.0 35.0 40.0 45.0 ...\n",
       "  * time     (time) float32 6.0\n",
       "Attributes:\n",
       "    standard_name:  sea_water_temperature\n",
       "    long_name:      Objectively analyzed mean fields for sea_water_temperatur...\n",
       "    cell_methods:   area: mean depth: mean time: mean\n",
       "    grid_mapping:   crs\n",
       "    units:          degrees_celsius"
      ]
     },
     "execution_count": 10,
     "metadata": {},
     "output_type": "execute_result"
    }
   ],
   "source": [
    "woa.t_an"
   ]
  },
  {
   "cell_type": "code",
   "execution_count": 11,
   "metadata": {},
   "outputs": [],
   "source": [
    "#---------------------------------------------------------------\n",
    "# compute metrics (dx,dy,dz) of ocean grid cells and mask\n",
    "Rearth = 6378e+3\n",
    "nx = woa.lon.shape[0]\n",
    "ny = woa.lat.shape[0]\n",
    "nz = woa.depth.shape[0]\n",
    "\n",
    "dxflat = (2*np.pi*Rearth/360) * (woa.lon_bnds[:,1] - woa.lon_bnds[:,0])\n",
    "dyflat = (2*np.pi*Rearth/360) * (woa.lat_bnds[:,1] - woa.lat_bnds[:,0])\n",
    "dzcolumn = (woa.depth_bnds[:,1] - woa.depth_bnds[:,0]).values\n",
    "\n",
    "dxflat2d, dyflat2d = np.meshgrid(dxflat,dyflat)\n",
    "lon2d, lat2d = np.meshgrid(woa.lon,woa.lat)\n",
    "\n",
    "dx = dxflat2d * np.cos(2*np.pi*lat2d/360)\n",
    "dy = dyflat2d\n",
    "\n",
    "dz = np.empty((nz,ny,nx))\n",
    "for jj in np.arange(ny):\n",
    "        for ji in np.arange(nx):\n",
    "                dz[:,jj,ji] = dzcolumn"
   ]
  },
  {
   "cell_type": "code",
   "execution_count": 12,
   "metadata": {},
   "outputs": [],
   "source": [
    "#---------------------------------------------------------------\n",
    "# compute mask from missing value\n",
    "mask = np.ma.array(np.ones(woa.t_an.squeeze().shape))\n",
    "mask[np.isnan(woa.t_an.values.squeeze())] = 0"
   ]
  },
  {
   "cell_type": "code",
   "execution_count": 14,
   "metadata": {},
   "outputs": [
    {
     "name": "stdout",
     "output_type": "stream",
     "text": [
      "Populating the interactive namespace from numpy and matplotlib\n"
     ]
    },
    {
     "name": "stderr",
     "output_type": "stream",
     "text": [
      "/opt/anaconda3/5.1.0/lib/python3.6/site-packages/IPython/core/magics/pylab.py:160: UserWarning: pylab import has clobbered these variables: ['plt']\n",
      "`%matplotlib` prevents importing * from pylab and numpy\n",
      "  \"\\n`%matplotlib` prevents importing * from pylab and numpy\"\n"
     ]
    },
    {
     "data": {
      "image/png": "[encoded data removed]",
      "text/plain": [
       "<Figure size 864x864 with 2 Axes>"
      ]
     },
     "metadata": {},
     "output_type": "display_data"
    }
   ],
   "source": [
    "# Quick check on the mask\n",
    "%pylab inline\n",
    "import matplotlib.pylab as plt\n",
    "plt.figure(figsize=[12,12])\n",
    "plt.pcolormesh(mask[0,:,:]) ; plt.colorbar()\n",
    "plt.show()"
   ]
  },
  {
   "cell_type": "code",
   "execution_count": 15,
   "metadata": {},
   "outputs": [],
   "source": [
    "#---------------------------------------------------------------\n",
    "# sanity checks\n",
    "# compute water volume between 50C and 55C (never observed)\n",
    "wmass_testimpossible = lib_watermass.volume_watermass_from_ts(dx.transpose(),dy.transpose(),dz.transpose(),\\\n",
    "                                                              woa.t_an.transpose(),\\\n",
    "                                                              woa.s_an.transpose(),\\\n",
    "                                                              50.,55.,0.,40.)"
   ]
  },
  {
   "cell_type": "code",
   "execution_count": 16,
   "metadata": {},
   "outputs": [
    {
     "name": "stdout",
     "output_type": "stream",
     "text": [
      "---Control checks---\n",
      "Impossible water mass, volume = 0.0\n",
      "All possible water, volume = 1.3762046079890934e+18\n",
      "volume from scale factors =  1.37620463021e+18\n"
     ]
    }
   ],
   "source": [
    "# compute all possible volume\n",
    "wmass_testall = lib_watermass.volume_watermass_from_ts(dx.transpose(),dy.transpose(),dz.transpose(),\\\n",
    "                                                       woa.t_an.transpose(),\\\n",
    "                                                       woa.s_an.transpose(),\\\n",
    "                                                       -10.,100.,0.,50.)\n",
    "\n",
    "# and compare to volume from metrics\n",
    "wmass_from_metrics = (dx * dy * mask * dz).sum()\n",
    "\n",
    "print('---Control checks---')\n",
    "print('Impossible water mass, volume =', wmass_testimpossible)\n",
    "print('All possible water, volume =', wmass_testall)\n",
    "print('volume from scale factors = ', wmass_from_metrics)"
   ]
  },
  {
   "cell_type": "code",
   "execution_count": 17,
   "metadata": {},
   "outputs": [
    {
     "name": "stdout",
     "output_type": "stream",
     "text": [
      "---Volume of ocean in temperature ranges---\n",
      "The percentage of ocean waters 20C < T < 40C is  1.69948501477 %\n",
      "The percentage of ocean waters 10C < T < 20C is  6.10112841424 %\n",
      "The percentage of ocean waters  0C < T < 10C is  88.6711761299 %\n"
     ]
    }
   ],
   "source": [
    "#---------------------------------------------------------------\n",
    "# now let's learn some stuff\n",
    "# compute volume of water 20C < T < 40C\n",
    "wmass_20to40C = lib_watermass.volume_watermass_from_ts(dx.transpose(),dy.transpose(),dz.transpose(),\\\n",
    "                                                       woa.t_an.transpose(),\\\n",
    "                                                       woa.s_an.transpose(),\\\n",
    "                                                       20.,40.,0.,40.)\n",
    "# compute volume of water 10C < T < 20C\n",
    "wmass_10to20C = lib_watermass.volume_watermass_from_ts(dx.transpose(),dy.transpose(),dz.transpose(),\\\n",
    "                                                       woa.t_an.transpose(),woa.s_an.transpose(),\\\n",
    "                                                       10.,20.,0.,40.)\n",
    "# compute volume of water 0C < T < 10C\n",
    "wmass_0to10C = lib_watermass.volume_watermass_from_ts(dx.transpose(),dy.transpose(),dz.transpose(),\\\n",
    "                                                      woa.t_an.transpose(),woa.s_an.transpose(),\\\n",
    "                                                      0.,10.,0.,40.)\n",
    "\n",
    "print('---Volume of ocean in temperature ranges---')\n",
    "print('The percentage of ocean waters 20C < T < 40C is ', 100 * wmass_20to40C / wmass_from_metrics, '%')\n",
    "print('The percentage of ocean waters 10C < T < 20C is ', 100 * wmass_10to20C / wmass_from_metrics, '%')\n",
    "print('The percentage of ocean waters  0C < T < 10C is ', 100 * wmass_0to10C / wmass_from_metrics, '%')"
   ]
  },
  {
   "cell_type": "code",
   "execution_count": null,
   "metadata": {},
   "outputs": [],
   "source": [
    "# note on I/O and dimensions\n",
    "\n",
    "#---------------------------------------------------------------\n",
    "\n",
    "wmass_20to40C = lib_watermass.volume_watermass_from_ts(dx.transpose(),dy.transpose(),dz.transpose(),\\\n",
    "                                                       woa.t_an.transpose(),\\\n",
    "                                                       woa.s_an.transpose(),\\\n",
    "                                                       20.,40.,0.,40.)\n",
    "\n",
    "print('Solution from v1 is ', 100 * wmass_20to40C / wmass_from_metrics, '%')\n",
    "\n",
    "wmass_20to40C = lib_watermass.volume_watermass_from_ts_v2(dx.transpose(),dy.transpose(),dz.transpose(),\\\n",
    "                                                       woa.t_an.transpose(),\\\n",
    "                                                       woa.s_an.transpose(),\\\n",
    "                                                       20.,40.,0.,40.,nx,ny,nz)\n",
    "\n",
    "\n",
    "print('Solution from v2 is ', 100 * wmass_20to40C / wmass_from_metrics, '%')\n",
    "\n",
    "wmass_20to40C = lib_watermass.volume_watermass_from_ts_v2(dx.transpose(),dy.transpose(),dz.transpose(),\\\n",
    "                                                       woa.t_an.transpose(),\\\n",
    "                                                       woa.s_an.transpose(),\\\n",
    "                                                       20.,40.,0.,40.)\n",
    "\n",
    "print('Solution from v2 without nx,ny,nz is ', 100 * wmass_20to40C / wmass_from_metrics, '%')\n",
    "\n",
    "wmass_20to40C = lib_watermass.volume_watermass_from_ts_v3(dx,dy,dz,\\\n",
    "                                                       woa.t_an,\\\n",
    "                                                       woa.s_an,\\\n",
    "                                                       20.,40.,0.,40.)\n",
    "\n",
    "print('Solution from v3 without nx,ny,nz is ', 100 * wmass_20to40C / wmass_from_metrics, '%')"
   ]
  },
  {
   "cell_type": "code",
   "execution_count": null,
   "metadata": {},
   "outputs": [],
   "source": []
  },
  {
   "cell_type": "code",
   "execution_count": null,
   "metadata": {},
   "outputs": [],
   "source": []
  }
 ],
 "metadata": {
  "kernelspec": {
   "display_name": "Python 3",
   "language": "python",
   "name": "python3"
  },
  "language_info": {
   "codemirror_mode": {
    "name": "ipython",
    "version": 3
   },
   "file_extension": ".py",
   "mimetype": "text/x-python",
   "name": "python",
   "nbconvert_exporter": "python",
   "pygments_lexer": "ipython3",
   "version": "3.6.4"
  }
 },
 "nbformat": 4,
 "nbformat_minor": 2
}
