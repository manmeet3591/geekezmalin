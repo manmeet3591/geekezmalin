{
 "cells": [
  {
   "cell_type": "code",
   "execution_count": null,
   "metadata": {},
   "outputs": [],
   "source": [
    "# get the World Ocean Atlas annual T/S data\n",
    "# wget in disguise in the Makefile\n",
    "!make getdata"
   ]
  },
  {
   "cell_type": "code",
   "execution_count": 22,
   "metadata": {},
   "outputs": [
    {
     "name": "stdout",
     "output_type": "stream",
     "text": [
      "f2py -c -m lib_watermass lib_watermass.f90\n",
      "\u001b[39mrunning build\u001b[0m\n",
      "\u001b[39mrunning config_cc\u001b[0m\n",
      "\u001b[39munifing config_cc, config, build_clib, build_ext, build commands --compiler options\u001b[0m\n",
      "\u001b[39mrunning config_fc\u001b[0m\n",
      "\u001b[39munifing config_fc, config, build_clib, build_ext, build commands --fcompiler options\u001b[0m\n",
      "\u001b[39mrunning build_src\u001b[0m\n",
      "\u001b[39mbuild_src\u001b[0m\n",
      "\u001b[39mbuilding extension \"lib_watermass\" sources\u001b[0m\n",
      "\u001b[39mf2py options: []\u001b[0m\n",
      "\u001b[39mf2py:> /var/folders/j4/v7kprvpx0j3cnnsmbwxbbr300000gn/T/tmp6s8jboso/src.macosx-10.7-x86_64-3.6/lib_watermassmodule.c\u001b[0m\n",
      "\u001b[39mcreating /var/folders/j4/v7kprvpx0j3cnnsmbwxbbr300000gn/T/tmp6s8jboso/src.macosx-10.7-x86_64-3.6\u001b[0m\n",
      "Reading fortran codes...\n",
      "\tReading file 'lib_watermass.f90' (format:free)\n",
      "Post-processing...\n",
      "\tBlock: lib_watermass\n",
      "\t\t\tBlock: volume_watermass_from_ts\n",
      "\t\t\tBlock: volume_watermass_from_ts_v2\n",
      "\t\t\tBlock: volume_watermass_from_ts_v3\n",
      "Post-processing (stage 2)...\n",
      "Building modules...\n",
      "\tBuilding module \"lib_watermass\"...\n",
      "\t\tCreating wrapper for Fortran subroutine \"volume_watermass_from_ts\"(\"volume_watermass_from_ts\")...\n",
      "\t\tConstructing wrapper function \"volume_watermass_from_ts\"...\n",
      "\t\t  volume = volume_watermass_from_ts(dx,dy,thickness,temp,salt,tmin,tmax,smin,smax)\n",
      "\t\tConstructing wrapper function \"volume_watermass_from_ts_v2\"...\n",
      "\t\t  volume = volume_watermass_from_ts_v2(dx,dy,thickness,temp,salt,tmin,tmax,smin,smax,[nx,ny,nz])\n",
      "\t\tConstructing wrapper function \"volume_watermass_from_ts_v3\"...\n",
      "\t\t  volume = volume_watermass_from_ts_v3(dx,dy,thickness,temp,salt,tmin,tmax,smin,smax,[nx,ny,nz])\n",
      "\tWrote C/API module \"lib_watermass\" to file \"/var/folders/j4/v7kprvpx0j3cnnsmbwxbbr300000gn/T/tmp6s8jboso/src.macosx-10.7-x86_64-3.6/lib_watermassmodule.c\"\n",
      "\tFortran 77 wrappers are saved to \"/var/folders/j4/v7kprvpx0j3cnnsmbwxbbr300000gn/T/tmp6s8jboso/src.macosx-10.7-x86_64-3.6/lib_watermass-f2pywrappers.f\"\n",
      "\u001b[39m  adding '/var/folders/j4/v7kprvpx0j3cnnsmbwxbbr300000gn/T/tmp6s8jboso/src.macosx-10.7-x86_64-3.6/fortranobject.c' to sources.\u001b[0m\n",
      "\u001b[39m  adding '/var/folders/j4/v7kprvpx0j3cnnsmbwxbbr300000gn/T/tmp6s8jboso/src.macosx-10.7-x86_64-3.6' to include_dirs.\u001b[0m\n",
      "\u001b[39mcopying /opt/anaconda3/5.1.0/lib/python3.6/site-packages/numpy/f2py/src/fortranobject.c -> /var/folders/j4/v7kprvpx0j3cnnsmbwxbbr300000gn/T/tmp6s8jboso/src.macosx-10.7-x86_64-3.6\u001b[0m\n",
      "\u001b[39mcopying /opt/anaconda3/5.1.0/lib/python3.6/site-packages/numpy/f2py/src/fortranobject.h -> /var/folders/j4/v7kprvpx0j3cnnsmbwxbbr300000gn/T/tmp6s8jboso/src.macosx-10.7-x86_64-3.6\u001b[0m\n",
      "\u001b[39m  adding '/var/folders/j4/v7kprvpx0j3cnnsmbwxbbr300000gn/T/tmp6s8jboso/src.macosx-10.7-x86_64-3.6/lib_watermass-f2pywrappers.f' to sources.\u001b[0m\n",
      "\u001b[39mbuild_src: building npy-pkg config files\u001b[0m\n",
      "\u001b[39mrunning build_ext\u001b[0m\n",
      "\u001b[39mcustomize UnixCCompiler\u001b[0m\n",
      "\u001b[39mcustomize UnixCCompiler using build_ext\u001b[0m\n",
      "\u001b[39mcustomize Gnu95FCompiler\u001b[0m\n",
      "\u001b[39mFound executable /opt/local/bin/gfortran\u001b[0m\n",
      "\u001b[39mcustomize Gnu95FCompiler\u001b[0m\n",
      "\u001b[39mcustomize Gnu95FCompiler using build_ext\u001b[0m\n",
      "\u001b[39mbuilding 'lib_watermass' extension\u001b[0m\n",
      "\u001b[39mcompiling C sources\u001b[0m\n",
      "\u001b[39mC compiler: gcc -Wno-unused-result -Wsign-compare -Wunreachable-code -DNDEBUG -g -fwrapv -O3 -Wall -Wstrict-prototypes -I/opt/anaconda3/5.1.0/include -arch x86_64 -I/opt/anaconda3/5.1.0/include -arch x86_64\n",
      "\u001b[0m\n",
      "\u001b[39mcreating /var/folders/j4/v7kprvpx0j3cnnsmbwxbbr300000gn/T/tmp6s8jboso/var\u001b[0m\n",
      "\u001b[39mcreating /var/folders/j4/v7kprvpx0j3cnnsmbwxbbr300000gn/T/tmp6s8jboso/var/folders\u001b[0m\n",
      "\u001b[39mcreating /var/folders/j4/v7kprvpx0j3cnnsmbwxbbr300000gn/T/tmp6s8jboso/var/folders/j4\u001b[0m\n",
      "\u001b[39mcreating /var/folders/j4/v7kprvpx0j3cnnsmbwxbbr300000gn/T/tmp6s8jboso/var/folders/j4/v7kprvpx0j3cnnsmbwxbbr300000gn\u001b[0m\n",
      "\u001b[39mcreating /var/folders/j4/v7kprvpx0j3cnnsmbwxbbr300000gn/T/tmp6s8jboso/var/folders/j4/v7kprvpx0j3cnnsmbwxbbr300000gn/T\u001b[0m\n",
      "\u001b[39mcreating /var/folders/j4/v7kprvpx0j3cnnsmbwxbbr300000gn/T/tmp6s8jboso/var/folders/j4/v7kprvpx0j3cnnsmbwxbbr300000gn/T/tmp6s8jboso\u001b[0m\n",
      "\u001b[39mcreating /var/folders/j4/v7kprvpx0j3cnnsmbwxbbr300000gn/T/tmp6s8jboso/var/folders/j4/v7kprvpx0j3cnnsmbwxbbr300000gn/T/tmp6s8jboso/src.macosx-10.7-x86_64-3.6\u001b[0m\n",
      "\u001b[39mcompile options: '-I/var/folders/j4/v7kprvpx0j3cnnsmbwxbbr300000gn/T/tmp6s8jboso/src.macosx-10.7-x86_64-3.6 -I/opt/anaconda3/5.1.0/lib/python3.6/site-packages/numpy/core/include -I/opt/anaconda3/5.1.0/include/python3.6m -c'\u001b[0m\n",
      "\u001b[39mgcc: /var/folders/j4/v7kprvpx0j3cnnsmbwxbbr300000gn/T/tmp6s8jboso/src.macosx-10.7-x86_64-3.6/lib_watermassmodule.c\u001b[0m\n",
      "In file included from /opt/anaconda3/5.1.0/lib/python3.6/site-packages/numpy/core/include/numpy/ndarraytypes.h:1809:0,\n",
      "                 from /opt/anaconda3/5.1.0/lib/python3.6/site-packages/numpy/core/include/numpy/ndarrayobject.h:18,\n",
      "                 from /opt/anaconda3/5.1.0/lib/python3.6/site-packages/numpy/core/include/numpy/arrayobject.h:4,\n",
      "                 from /var/folders/j4/v7kprvpx0j3cnnsmbwxbbr300000gn/T/tmp6s8jboso/src.macosx-10.7-x86_64-3.6/fortranobject.h:13,\n",
      "                 from /var/folders/j4/v7kprvpx0j3cnnsmbwxbbr300000gn/T/tmp6s8jboso/src.macosx-10.7-x86_64-3.6/lib_watermassmodule.c:19:\n",
      "/opt/anaconda3/5.1.0/lib/python3.6/site-packages/numpy/core/include/numpy/npy_1_7_deprecated_api.h:15:2: warning: #warning \"Using deprecated NumPy API, disable it by \" \"#defining NPY_NO_DEPRECATED_API NPY_1_7_API_VERSION\" [-Wcpp]\n",
      " #warning \"Using deprecated NumPy API, disable it by \" \\\n",
      "  ^\n",
      "/var/folders/j4/v7kprvpx0j3cnnsmbwxbbr300000gn/T/tmp6s8jboso/src.macosx-10.7-x86_64-3.6/lib_watermassmodule.c:186:12: warning: 'f2py_size' defined but not used [-Wunused-function]\n",
      " static int f2py_size(PyArrayObject* var, ...)\n",
      "            ^\n",
      "\u001b[39mgcc: /var/folders/j4/v7kprvpx0j3cnnsmbwxbbr300000gn/T/tmp6s8jboso/src.macosx-10.7-x86_64-3.6/fortranobject.c\u001b[0m\n",
      "In file included from /opt/anaconda3/5.1.0/lib/python3.6/site-packages/numpy/core/include/numpy/ndarraytypes.h:1809:0,\n",
      "                 from /opt/anaconda3/5.1.0/lib/python3.6/site-packages/numpy/core/include/numpy/ndarrayobject.h:18,\n",
      "                 from /opt/anaconda3/5.1.0/lib/python3.6/site-packages/numpy/core/include/numpy/arrayobject.h:4,\n",
      "                 from /var/folders/j4/v7kprvpx0j3cnnsmbwxbbr300000gn/T/tmp6s8jboso/src.macosx-10.7-x86_64-3.6/fortranobject.h:13,\n",
      "                 from /var/folders/j4/v7kprvpx0j3cnnsmbwxbbr300000gn/T/tmp6s8jboso/src.macosx-10.7-x86_64-3.6/fortranobject.c:2:\n",
      "/opt/anaconda3/5.1.0/lib/python3.6/site-packages/numpy/core/include/numpy/npy_1_7_deprecated_api.h:15:2: warning: #warning \"Using deprecated NumPy API, disable it by \" \"#defining NPY_NO_DEPRECATED_API NPY_1_7_API_VERSION\" [-Wcpp]\n",
      " #warning \"Using deprecated NumPy API, disable it by \" \\\n",
      "  ^\n",
      "/var/folders/j4/v7kprvpx0j3cnnsmbwxbbr300000gn/T/tmp6s8jboso/src.macosx-10.7-x86_64-3.6/fortranobject.c: In function 'format_def':\n",
      "/var/folders/j4/v7kprvpx0j3cnnsmbwxbbr300000gn/T/tmp6s8jboso/src.macosx-10.7-x86_64-3.6/fortranobject.c:138:18: warning: comparison between signed and unsigned integer expressions [-Wsign-compare]\n",
      "         if (size < sizeof(notalloc)) {\n",
      "                  ^\n",
      "\u001b[39mcompiling Fortran sources\u001b[0m\n",
      "\u001b[39mFortran f77 compiler: /opt/local/bin/gfortran -Wall -g -ffixed-form -fno-second-underscore -m64 -fPIC -O3 -funroll-loops\n",
      "Fortran f90 compiler: /opt/local/bin/gfortran -Wall -g -fno-second-underscore -m64 -fPIC -O3 -funroll-loops\n",
      "Fortran fix compiler: /opt/local/bin/gfortran -Wall -g -ffixed-form -fno-second-underscore -Wall -g -fno-second-underscore -m64 -fPIC -O3 -funroll-loops\u001b[0m\n",
      "\u001b[39mcompile options: '-I/var/folders/j4/v7kprvpx0j3cnnsmbwxbbr300000gn/T/tmp6s8jboso/src.macosx-10.7-x86_64-3.6 -I/opt/anaconda3/5.1.0/lib/python3.6/site-packages/numpy/core/include -I/opt/anaconda3/5.1.0/include/python3.6m -c'\u001b[0m\n",
      "\u001b[39mgfortran:f90: lib_watermass.f90\u001b[0m\n",
      "\u001b[39mgfortran:f77: /var/folders/j4/v7kprvpx0j3cnnsmbwxbbr300000gn/T/tmp6s8jboso/src.macosx-10.7-x86_64-3.6/lib_watermass-f2pywrappers.f\u001b[0m\n",
      "\u001b[39m/opt/local/bin/gfortran -Wall -g -m64 -Wall -g -undefined dynamic_lookup -bundle /var/folders/j4/v7kprvpx0j3cnnsmbwxbbr300000gn/T/tmp6s8jboso/var/folders/j4/v7kprvpx0j3cnnsmbwxbbr300000gn/T/tmp6s8jboso/src.macosx-10.7-x86_64-3.6/lib_watermassmodule.o /var/folders/j4/v7kprvpx0j3cnnsmbwxbbr300000gn/T/tmp6s8jboso/var/folders/j4/v7kprvpx0j3cnnsmbwxbbr300000gn/T/tmp6s8jboso/src.macosx-10.7-x86_64-3.6/fortranobject.o /var/folders/j4/v7kprvpx0j3cnnsmbwxbbr300000gn/T/tmp6s8jboso/lib_watermass.o /var/folders/j4/v7kprvpx0j3cnnsmbwxbbr300000gn/T/tmp6s8jboso/var/folders/j4/v7kprvpx0j3cnnsmbwxbbr300000gn/T/tmp6s8jboso/src.macosx-10.7-x86_64-3.6/lib_watermass-f2pywrappers.o -L/opt/local/lib/gcc49/gcc/x86_64-apple-darwin15/4.9.4 -lgfortran -o ./lib_watermass.cpython-36m-darwin.so\u001b[0m\n"
     ]
    },
    {
     "name": "stdout",
     "output_type": "stream",
     "text": [
      "Removing build directory /var/folders/j4/v7kprvpx0j3cnnsmbwxbbr300000gn/T/tmp6s8jboso\n",
      "f2py -c -m creeping_sea creeping_sea.f90\n",
      "\u001b[39mrunning build\u001b[0m\n",
      "\u001b[39mrunning config_cc\u001b[0m\n",
      "\u001b[39munifing config_cc, config, build_clib, build_ext, build commands --compiler options\u001b[0m\n",
      "\u001b[39mrunning config_fc\u001b[0m\n",
      "\u001b[39munifing config_fc, config, build_clib, build_ext, build commands --fcompiler options\u001b[0m\n",
      "\u001b[39mrunning build_src\u001b[0m\n",
      "\u001b[39mbuild_src\u001b[0m\n",
      "\u001b[39mbuilding extension \"creeping_sea\" sources\u001b[0m\n",
      "\u001b[39mf2py options: []\u001b[0m\n",
      "\u001b[39mf2py:> /var/folders/j4/v7kprvpx0j3cnnsmbwxbbr300000gn/T/tmp0rrpug_u/src.macosx-10.7-x86_64-3.6/creeping_seamodule.c\u001b[0m\n",
      "\u001b[39mcreating /var/folders/j4/v7kprvpx0j3cnnsmbwxbbr300000gn/T/tmp0rrpug_u/src.macosx-10.7-x86_64-3.6\u001b[0m\n",
      "Reading fortran codes...\n",
      "\tReading file 'creeping_sea.f90' (format:free)\n",
      "Post-processing...\n",
      "\tBlock: creeping_sea\n",
      "\t\t\tBlock: cslf\n",
      "Post-processing (stage 2)...\n",
      "Building modules...\n",
      "\tBuilding module \"creeping_sea\"...\n",
      "\t\tConstructing wrapper function \"cslf\"...\n",
      "\t\t  varout = cslf(varin,spval,validmin,validmax,[nx,ny])\n",
      "\tWrote C/API module \"creeping_sea\" to file \"/var/folders/j4/v7kprvpx0j3cnnsmbwxbbr300000gn/T/tmp0rrpug_u/src.macosx-10.7-x86_64-3.6/creeping_seamodule.c\"\n",
      "\u001b[39m  adding '/var/folders/j4/v7kprvpx0j3cnnsmbwxbbr300000gn/T/tmp0rrpug_u/src.macosx-10.7-x86_64-3.6/fortranobject.c' to sources.\u001b[0m\n",
      "\u001b[39m  adding '/var/folders/j4/v7kprvpx0j3cnnsmbwxbbr300000gn/T/tmp0rrpug_u/src.macosx-10.7-x86_64-3.6' to include_dirs.\u001b[0m\n",
      "\u001b[39mcopying /opt/anaconda3/5.1.0/lib/python3.6/site-packages/numpy/f2py/src/fortranobject.c -> /var/folders/j4/v7kprvpx0j3cnnsmbwxbbr300000gn/T/tmp0rrpug_u/src.macosx-10.7-x86_64-3.6\u001b[0m\n",
      "\u001b[39mcopying /opt/anaconda3/5.1.0/lib/python3.6/site-packages/numpy/f2py/src/fortranobject.h -> /var/folders/j4/v7kprvpx0j3cnnsmbwxbbr300000gn/T/tmp0rrpug_u/src.macosx-10.7-x86_64-3.6\u001b[0m\n",
      "\u001b[39mbuild_src: building npy-pkg config files\u001b[0m\n",
      "\u001b[39mrunning build_ext\u001b[0m\n",
      "\u001b[39mcustomize UnixCCompiler\u001b[0m\n",
      "\u001b[39mcustomize UnixCCompiler using build_ext\u001b[0m\n",
      "\u001b[39mcustomize Gnu95FCompiler\u001b[0m\n",
      "\u001b[39mFound executable /opt/local/bin/gfortran\u001b[0m\n",
      "\u001b[39mcustomize Gnu95FCompiler\u001b[0m\n",
      "\u001b[39mcustomize Gnu95FCompiler using build_ext\u001b[0m\n",
      "\u001b[39mbuilding 'creeping_sea' extension\u001b[0m\n",
      "\u001b[39mcompiling C sources\u001b[0m\n",
      "\u001b[39mC compiler: gcc -Wno-unused-result -Wsign-compare -Wunreachable-code -DNDEBUG -g -fwrapv -O3 -Wall -Wstrict-prototypes -I/opt/anaconda3/5.1.0/include -arch x86_64 -I/opt/anaconda3/5.1.0/include -arch x86_64\n",
      "\u001b[0m\n",
      "\u001b[39mcreating /var/folders/j4/v7kprvpx0j3cnnsmbwxbbr300000gn/T/tmp0rrpug_u/var\u001b[0m\n",
      "\u001b[39mcreating /var/folders/j4/v7kprvpx0j3cnnsmbwxbbr300000gn/T/tmp0rrpug_u/var/folders\u001b[0m\n",
      "\u001b[39mcreating /var/folders/j4/v7kprvpx0j3cnnsmbwxbbr300000gn/T/tmp0rrpug_u/var/folders/j4\u001b[0m\n",
      "\u001b[39mcreating /var/folders/j4/v7kprvpx0j3cnnsmbwxbbr300000gn/T/tmp0rrpug_u/var/folders/j4/v7kprvpx0j3cnnsmbwxbbr300000gn\u001b[0m\n",
      "\u001b[39mcreating /var/folders/j4/v7kprvpx0j3cnnsmbwxbbr300000gn/T/tmp0rrpug_u/var/folders/j4/v7kprvpx0j3cnnsmbwxbbr300000gn/T\u001b[0m\n",
      "\u001b[39mcreating /var/folders/j4/v7kprvpx0j3cnnsmbwxbbr300000gn/T/tmp0rrpug_u/var/folders/j4/v7kprvpx0j3cnnsmbwxbbr300000gn/T/tmp0rrpug_u\u001b[0m\n",
      "\u001b[39mcreating /var/folders/j4/v7kprvpx0j3cnnsmbwxbbr300000gn/T/tmp0rrpug_u/var/folders/j4/v7kprvpx0j3cnnsmbwxbbr300000gn/T/tmp0rrpug_u/src.macosx-10.7-x86_64-3.6\u001b[0m\n",
      "\u001b[39mcompile options: '-I/var/folders/j4/v7kprvpx0j3cnnsmbwxbbr300000gn/T/tmp0rrpug_u/src.macosx-10.7-x86_64-3.6 -I/opt/anaconda3/5.1.0/lib/python3.6/site-packages/numpy/core/include -I/opt/anaconda3/5.1.0/include/python3.6m -c'\u001b[0m\n",
      "\u001b[39mgcc: /var/folders/j4/v7kprvpx0j3cnnsmbwxbbr300000gn/T/tmp0rrpug_u/src.macosx-10.7-x86_64-3.6/creeping_seamodule.c\u001b[0m\n",
      "In file included from /opt/anaconda3/5.1.0/lib/python3.6/site-packages/numpy/core/include/numpy/ndarraytypes.h:1809:0,\n",
      "                 from /opt/anaconda3/5.1.0/lib/python3.6/site-packages/numpy/core/include/numpy/ndarrayobject.h:18,\n",
      "                 from /opt/anaconda3/5.1.0/lib/python3.6/site-packages/numpy/core/include/numpy/arrayobject.h:4,\n",
      "                 from /var/folders/j4/v7kprvpx0j3cnnsmbwxbbr300000gn/T/tmp0rrpug_u/src.macosx-10.7-x86_64-3.6/fortranobject.h:13,\n",
      "                 from /var/folders/j4/v7kprvpx0j3cnnsmbwxbbr300000gn/T/tmp0rrpug_u/src.macosx-10.7-x86_64-3.6/creeping_seamodule.c:19:\n",
      "/opt/anaconda3/5.1.0/lib/python3.6/site-packages/numpy/core/include/numpy/npy_1_7_deprecated_api.h:15:2: warning: #warning \"Using deprecated NumPy API, disable it by \" \"#defining NPY_NO_DEPRECATED_API NPY_1_7_API_VERSION\" [-Wcpp]\n",
      " #warning \"Using deprecated NumPy API, disable it by \" \\\n",
      "  ^\n",
      "/var/folders/j4/v7kprvpx0j3cnnsmbwxbbr300000gn/T/tmp0rrpug_u/src.macosx-10.7-x86_64-3.6/creeping_seamodule.c:112:12: warning: 'f2py_size' defined but not used [-Wunused-function]\n",
      " static int f2py_size(PyArrayObject* var, ...)\n",
      "            ^\n",
      "\u001b[39mgcc: /var/folders/j4/v7kprvpx0j3cnnsmbwxbbr300000gn/T/tmp0rrpug_u/src.macosx-10.7-x86_64-3.6/fortranobject.c\u001b[0m\n",
      "In file included from /opt/anaconda3/5.1.0/lib/python3.6/site-packages/numpy/core/include/numpy/ndarraytypes.h:1809:0,\n",
      "                 from /opt/anaconda3/5.1.0/lib/python3.6/site-packages/numpy/core/include/numpy/ndarrayobject.h:18,\n",
      "                 from /opt/anaconda3/5.1.0/lib/python3.6/site-packages/numpy/core/include/numpy/arrayobject.h:4,\n",
      "                 from /var/folders/j4/v7kprvpx0j3cnnsmbwxbbr300000gn/T/tmp0rrpug_u/src.macosx-10.7-x86_64-3.6/fortranobject.h:13,\n",
      "                 from /var/folders/j4/v7kprvpx0j3cnnsmbwxbbr300000gn/T/tmp0rrpug_u/src.macosx-10.7-x86_64-3.6/fortranobject.c:2:\n",
      "/opt/anaconda3/5.1.0/lib/python3.6/site-packages/numpy/core/include/numpy/npy_1_7_deprecated_api.h:15:2: warning: #warning \"Using deprecated NumPy API, disable it by \" \"#defining NPY_NO_DEPRECATED_API NPY_1_7_API_VERSION\" [-Wcpp]\n",
      " #warning \"Using deprecated NumPy API, disable it by \" \\\n",
      "  ^\n",
      "/var/folders/j4/v7kprvpx0j3cnnsmbwxbbr300000gn/T/tmp0rrpug_u/src.macosx-10.7-x86_64-3.6/fortranobject.c: In function 'format_def':\n",
      "/var/folders/j4/v7kprvpx0j3cnnsmbwxbbr300000gn/T/tmp0rrpug_u/src.macosx-10.7-x86_64-3.6/fortranobject.c:138:18: warning: comparison between signed and unsigned integer expressions [-Wsign-compare]\n",
      "         if (size < sizeof(notalloc)) {\n",
      "                  ^\n",
      "\u001b[39mcompiling Fortran sources\u001b[0m\n",
      "\u001b[39mFortran f77 compiler: /opt/local/bin/gfortran -Wall -g -ffixed-form -fno-second-underscore -m64 -fPIC -O3 -funroll-loops\n",
      "Fortran f90 compiler: /opt/local/bin/gfortran -Wall -g -fno-second-underscore -m64 -fPIC -O3 -funroll-loops\n",
      "Fortran fix compiler: /opt/local/bin/gfortran -Wall -g -ffixed-form -fno-second-underscore -Wall -g -fno-second-underscore -m64 -fPIC -O3 -funroll-loops\u001b[0m\n",
      "\u001b[39mcompile options: '-I/var/folders/j4/v7kprvpx0j3cnnsmbwxbbr300000gn/T/tmp0rrpug_u/src.macosx-10.7-x86_64-3.6 -I/opt/anaconda3/5.1.0/lib/python3.6/site-packages/numpy/core/include -I/opt/anaconda3/5.1.0/include/python3.6m -c'\u001b[0m\n",
      "\u001b[39mgfortran:f90: creeping_sea.f90\u001b[0m\n",
      "creeping_sea.f90:38.23:\n",
      "\n",
      "  ztmp_halo2pt(:,:)  = spval\n",
      "                       1\n",
      "Warning: Possible change of value in conversion from REAL(8) to REAL(4) at (1)\n",
      "creeping_sea.f90:40.33:\n",
      "\n",
      "  ztmp_halo2pt(2:nx+1,2:ny+1)  = varin(:,:)\n",
      "                                 1\n",
      "Warning: Possible change of value in conversion from REAL(8) to REAL(4) at (1)\n",
      "creeping_sea.f90:98.40:\n",
      "\n",
      "                ztmp_halo2pt(jih,jjh) = zval\n",
      "                                        1\n",
      "Warning: Possible change of value in conversion from REAL(8) to REAL(4) at (1)\n",
      "creeping_sea.f90:20.82:\n",
      "\n",
      "  INTEGER                              :: ctot, c1, c2, c3, c4, c5, c6, c7, c8, ct\n",
      "                                                                                  1\n",
      "Warning: Unused variable 'ct' declared at (1)\n",
      "\u001b[39m/opt/local/bin/gfortran -Wall -g -m64 -Wall -g -undefined dynamic_lookup -bundle /var/folders/j4/v7kprvpx0j3cnnsmbwxbbr300000gn/T/tmp0rrpug_u/var/folders/j4/v7kprvpx0j3cnnsmbwxbbr300000gn/T/tmp0rrpug_u/src.macosx-10.7-x86_64-3.6/creeping_seamodule.o /var/folders/j4/v7kprvpx0j3cnnsmbwxbbr300000gn/T/tmp0rrpug_u/var/folders/j4/v7kprvpx0j3cnnsmbwxbbr300000gn/T/tmp0rrpug_u/src.macosx-10.7-x86_64-3.6/fortranobject.o /var/folders/j4/v7kprvpx0j3cnnsmbwxbbr300000gn/T/tmp0rrpug_u/creeping_sea.o -L/opt/local/lib/gcc49/gcc/x86_64-apple-darwin15/4.9.4 -lgfortran -o ./creeping_sea.cpython-36m-darwin.so\u001b[0m\n"
     ]
    },
    {
     "name": "stdout",
     "output_type": "stream",
     "text": [
      "Removing build directory /var/folders/j4/v7kprvpx0j3cnnsmbwxbbr300000gn/T/tmp0rrpug_u\r\n"
     ]
    }
   ],
   "source": [
    "# we need to compile the fortran code into something python can use\n",
    "!make"
   ]
  },
  {
   "cell_type": "code",
   "execution_count": 24,
   "metadata": {},
   "outputs": [],
   "source": [
    "import xarray as xr\n",
    "import lib_watermass\n",
    "import numpy as np"
   ]
  },
  {
   "cell_type": "code",
   "execution_count": 3,
   "metadata": {},
   "outputs": [],
   "source": [
    "#---------------------------------------------------------------\n",
    "# sample data set (use make getdata to download WOA annual data)\n",
    "fnameT = 'woa13_5564_t00_01.nc'\n",
    "fnameS = 'woa13_5564_s00_01.nc'\n",
    "\n",
    "woa = xr.open_mfdataset([fnameT,fnameS],decode_times=False)"
   ]
  },
  {
   "cell_type": "code",
   "execution_count": 4,
   "metadata": {},
   "outputs": [
    {
     "data": {
      "text/plain": [
       "<xarray.DataArray 't_an' (time: 1, depth: 102, lat: 180, lon: 360)>\n",
       "dask.array<shape=(1, 102, 180, 360), dtype=float32, chunksize=(1, 102, 180, 360)>\n",
       "Coordinates:\n",
       "  * lat      (lat) float32 -89.5 -88.5 -87.5 -86.5 -85.5 -84.5 -83.5 -82.5 ...\n",
       "  * lon      (lon) float32 -179.5 -178.5 -177.5 -176.5 -175.5 -174.5 -173.5 ...\n",
       "  * depth    (depth) float32 0.0 5.0 10.0 15.0 20.0 25.0 30.0 35.0 40.0 45.0 ...\n",
       "  * time     (time) float32 6.0\n",
       "Attributes:\n",
       "    standard_name:  sea_water_temperature\n",
       "    long_name:      Objectively analyzed mean fields for sea_water_temperatur...\n",
       "    cell_methods:   area: mean depth: mean time: mean\n",
       "    grid_mapping:   crs\n",
       "    units:          degrees_celsius"
      ]
     },
     "execution_count": 4,
     "metadata": {},
     "output_type": "execute_result"
    }
   ],
   "source": [
    "woa.t_an"
   ]
  },
  {
   "cell_type": "code",
   "execution_count": 5,
   "metadata": {},
   "outputs": [],
   "source": [
    "#---------------------------------------------------------------\n",
    "# compute metrics (dx,dy,dz) of ocean grid cells and mask\n",
    "Rearth = 6378e+3\n",
    "nx = woa.lon.shape[0]\n",
    "ny = woa.lat.shape[0]\n",
    "nz = woa.depth.shape[0]\n",
    "\n",
    "dxflat = (2*np.pi*Rearth/360) * (woa.lon_bnds[:,1] - woa.lon_bnds[:,0])\n",
    "dyflat = (2*np.pi*Rearth/360) * (woa.lat_bnds[:,1] - woa.lat_bnds[:,0])\n",
    "dzcolumn = (woa.depth_bnds[:,1] - woa.depth_bnds[:,0]).values\n",
    "\n",
    "dxflat2d, dyflat2d = np.meshgrid(dxflat,dyflat)\n",
    "lon2d, lat2d = np.meshgrid(woa.lon,woa.lat)\n",
    "\n",
    "dx = dxflat2d * np.cos(2*np.pi*lat2d/360)\n",
    "dy = dyflat2d\n",
    "\n",
    "dz = np.empty((nz,ny,nx))\n",
    "for jj in np.arange(ny):\n",
    "        for ji in np.arange(nx):\n",
    "                dz[:,jj,ji] = dzcolumn"
   ]
  },
  {
   "cell_type": "code",
   "execution_count": 6,
   "metadata": {},
   "outputs": [],
   "source": [
    "#---------------------------------------------------------------\n",
    "# compute mask from missing value\n",
    "mask = np.ma.array(np.ones(woa.t_an.squeeze().shape))\n",
    "mask[np.isnan(woa.t_an.values.squeeze())] = 0"
   ]
  },
  {
   "cell_type": "code",
   "execution_count": 7,
   "metadata": {},
   "outputs": [
    {
     "name": "stdout",
     "output_type": "stream",
     "text": [
      "Populating the interactive namespace from numpy and matplotlib\n"
     ]
    },
    {
     "data": {
      "image/png": "[encoded data removed]",
      "text/plain": [
       "<Figure size 432x288 with 2 Axes>"
      ]
     },
     "metadata": {},
     "output_type": "display_data"
    }
   ],
   "source": [
    "# Quick check on the mask\n",
    "%pylab inline\n",
    "import matplotlib.pylab as plt\n",
    "plt.figure()\n",
    "plt.pcolormesh(mask[0,:,:]) ; plt.colorbar()\n",
    "plt.show()"
   ]
  },
  {
   "cell_type": "code",
   "execution_count": 8,
   "metadata": {},
   "outputs": [],
   "source": [
    "#---------------------------------------------------------------\n",
    "# sanity checks\n",
    "# compute water volume between 50C and 55C (never observed)\n",
    "wmass_testimpossible = lib_watermass.volume_watermass_from_ts(dx.transpose(),dy.transpose(),dz.transpose(),\\\n",
    "                                                              woa.t_an.transpose(),\\\n",
    "                                                              woa.s_an.transpose(),\\\n",
    "                                                              50.,55.,0.,40.)"
   ]
  },
  {
   "cell_type": "code",
   "execution_count": 9,
   "metadata": {},
   "outputs": [
    {
     "name": "stdout",
     "output_type": "stream",
     "text": [
      "---Control checks---\n",
      "Impossible water mass, volume = 0.0\n",
      "All possible water, volume = 1.3762046079890934e+18\n",
      "volume from scale factors =  1.37620463021e+18\n"
     ]
    }
   ],
   "source": [
    "# compute all possible volume\n",
    "wmass_testall = lib_watermass.volume_watermass_from_ts(dx.transpose(),dy.transpose(),dz.transpose(),\\\n",
    "                                                       woa.t_an.transpose(),\\\n",
    "                                                       woa.s_an.transpose(),\\\n",
    "                                                       -10.,100.,0.,50.)\n",
    "\n",
    "# and compare to volume from metrics\n",
    "wmass_from_metrics = (dx * dy * mask * dz).sum()\n",
    "\n",
    "print('---Control checks---')\n",
    "print('Impossible water mass, volume =', wmass_testimpossible)\n",
    "print('All possible water, volume =', wmass_testall)\n",
    "print('volume from scale factors = ', wmass_from_metrics)"
   ]
  },
  {
   "cell_type": "code",
   "execution_count": 10,
   "metadata": {},
   "outputs": [
    {
     "name": "stdout",
     "output_type": "stream",
     "text": [
      "---Volume of ocean in temperature ranges---\n",
      "The percentage of ocean waters 20C < T < 40C is  1.69948501477 %\n",
      "The percentage of ocean waters 10C < T < 20C is  6.10112841424 %\n",
      "The percentage of ocean waters  0C < T < 10C is  88.6711761299 %\n"
     ]
    }
   ],
   "source": [
    "#---------------------------------------------------------------\n",
    "# now let's learn some stuff\n",
    "# compute volume of water 20C < T < 40C\n",
    "wmass_20to40C = lib_watermass.volume_watermass_from_ts(dx.transpose(),dy.transpose(),dz.transpose(),\\\n",
    "                                                       woa.t_an.transpose(),\\\n",
    "                                                       woa.s_an.transpose(),\\\n",
    "                                                       20.,40.,0.,40.)\n",
    "# compute volume of water 10C < T < 20C\n",
    "wmass_10to20C = lib_watermass.volume_watermass_from_ts(dx.transpose(),dy.transpose(),dz.transpose(),\\\n",
    "                                                       woa.t_an.transpose(),woa.s_an.transpose(),\\\n",
    "                                                       10.,20.,0.,40.)\n",
    "# compute volume of water 0C < T < 10C\n",
    "wmass_0to10C = lib_watermass.volume_watermass_from_ts(dx.transpose(),dy.transpose(),dz.transpose(),\\\n",
    "                                                      woa.t_an.transpose(),woa.s_an.transpose(),\\\n",
    "                                                      0.,10.,0.,40.)\n",
    "\n",
    "print('---Volume of ocean in temperature ranges---')\n",
    "print('The percentage of ocean waters 20C < T < 40C is ', 100 * wmass_20to40C / wmass_from_metrics, '%')\n",
    "print('The percentage of ocean waters 10C < T < 20C is ', 100 * wmass_10to20C / wmass_from_metrics, '%')\n",
    "print('The percentage of ocean waters  0C < T < 10C is ', 100 * wmass_0to10C / wmass_from_metrics, '%')"
   ]
  },
  {
   "cell_type": "code",
   "execution_count": 25,
   "metadata": {},
   "outputs": [
    {
     "name": "stdout",
     "output_type": "stream",
     "text": [
      "Solution from v1 is  1.69948501477 %\n",
      "Solution from v2 is  1.69948501477 %\n",
      "Solution from v2 without nx,ny,nz is  1.69948501477 %\n"
     ]
    },
    {
     "ename": "AttributeError",
     "evalue": "module 'lib_watermass' has no attribute 'volume_watermass_from_ts_v3'",
     "output_type": "error",
     "traceback": [
      "\u001b[0;31m---------------------------------------------------------------------------\u001b[0m",
      "\u001b[0;31mAttributeError\u001b[0m                            Traceback (most recent call last)",
      "\u001b[0;32m<ipython-input-25-229cc49b9204>\u001b[0m in \u001b[0;36m<module>\u001b[0;34m()\u001b[0m\n\u001b[1;32m     16\u001b[0m \u001b[0mprint\u001b[0m\u001b[0;34m(\u001b[0m\u001b[0;34m'Solution from v2 without nx,ny,nz is '\u001b[0m\u001b[0;34m,\u001b[0m \u001b[0;36m100\u001b[0m \u001b[0;34m*\u001b[0m \u001b[0mwmass_20to40C\u001b[0m \u001b[0;34m/\u001b[0m \u001b[0mwmass_from_metrics\u001b[0m\u001b[0;34m,\u001b[0m \u001b[0;34m'%'\u001b[0m\u001b[0;34m)\u001b[0m\u001b[0;34m\u001b[0m\u001b[0m\n\u001b[1;32m     17\u001b[0m \u001b[0;34m\u001b[0m\u001b[0m\n\u001b[0;32m---> 18\u001b[0;31m \u001b[0mwmass_20to40C\u001b[0m \u001b[0;34m=\u001b[0m \u001b[0mlib_watermass\u001b[0m\u001b[0;34m.\u001b[0m\u001b[0mvolume_watermass_from_ts_v3\u001b[0m\u001b[0;34m(\u001b[0m\u001b[0mdx\u001b[0m\u001b[0;34m,\u001b[0m\u001b[0mdy\u001b[0m\u001b[0;34m,\u001b[0m\u001b[0mdz\u001b[0m\u001b[0;34m,\u001b[0m                                                       \u001b[0mwoa\u001b[0m\u001b[0;34m.\u001b[0m\u001b[0mt_an\u001b[0m\u001b[0;34m,\u001b[0m                                                       \u001b[0mwoa\u001b[0m\u001b[0;34m.\u001b[0m\u001b[0ms_an\u001b[0m\u001b[0;34m,\u001b[0m                                                       \u001b[0;36m20.\u001b[0m\u001b[0;34m,\u001b[0m\u001b[0;36m40.\u001b[0m\u001b[0;34m,\u001b[0m\u001b[0;36m0.\u001b[0m\u001b[0;34m,\u001b[0m\u001b[0;36m40.\u001b[0m\u001b[0;34m)\u001b[0m\u001b[0;34m\u001b[0m\u001b[0m\n\u001b[0m\u001b[1;32m     19\u001b[0m \u001b[0;34m\u001b[0m\u001b[0m\n\u001b[1;32m     20\u001b[0m \u001b[0mprint\u001b[0m\u001b[0;34m(\u001b[0m\u001b[0;34m'Solution from v3 without nx,ny,nz is '\u001b[0m\u001b[0;34m,\u001b[0m \u001b[0;36m100\u001b[0m \u001b[0;34m*\u001b[0m \u001b[0mwmass_20to40C\u001b[0m \u001b[0;34m/\u001b[0m \u001b[0mwmass_from_metrics\u001b[0m\u001b[0;34m,\u001b[0m \u001b[0;34m'%'\u001b[0m\u001b[0;34m)\u001b[0m\u001b[0;34m\u001b[0m\u001b[0m\n",
      "\u001b[0;31mAttributeError\u001b[0m: module 'lib_watermass' has no attribute 'volume_watermass_from_ts_v3'"
     ]
    }
   ],
   "source": [
    "# note on I/O and dimensions\n",
    "\n",
    "#---------------------------------------------------------------\n",
    "\n",
    "wmass_20to40C = lib_watermass.volume_watermass_from_ts(dx.transpose(),dy.transpose(),dz.transpose(),\\\n",
    "                                                       woa.t_an.transpose(),\\\n",
    "                                                       woa.s_an.transpose(),\\\n",
    "                                                       20.,40.,0.,40.)\n",
    "\n",
    "print('Solution from v1 is ', 100 * wmass_20to40C / wmass_from_metrics, '%')\n",
    "\n",
    "wmass_20to40C = lib_watermass.volume_watermass_from_ts_v2(dx.transpose(),dy.transpose(),dz.transpose(),\\\n",
    "                                                       woa.t_an.transpose(),\\\n",
    "                                                       woa.s_an.transpose(),\\\n",
    "                                                       20.,40.,0.,40.,nx,ny,nz)\n",
    "\n",
    "\n",
    "print('Solution from v2 is ', 100 * wmass_20to40C / wmass_from_metrics, '%')\n",
    "\n",
    "wmass_20to40C = lib_watermass.volume_watermass_from_ts_v2(dx.transpose(),dy.transpose(),dz.transpose(),\\\n",
    "                                                       woa.t_an.transpose(),\\\n",
    "                                                       woa.s_an.transpose(),\\\n",
    "                                                       20.,40.,0.,40.)\n",
    "\n",
    "print('Solution from v2 without nx,ny,nz is ', 100 * wmass_20to40C / wmass_from_metrics, '%')\n",
    "\n",
    "wmass_20to40C = lib_watermass.volume_watermass_from_ts_v3(dx,dy,dz,\\\n",
    "                                                       woa.t_an,\\\n",
    "                                                       woa.s_an,\\\n",
    "                                                       20.,40.,0.,40.)\n",
    "\n",
    "print('Solution from v3 without nx,ny,nz is ', 100 * wmass_20to40C / wmass_from_metrics, '%')"
   ]
  },
  {
   "cell_type": "code",
   "execution_count": null,
   "metadata": {},
   "outputs": [],
   "source": []
  },
  {
   "cell_type": "code",
   "execution_count": null,
   "metadata": {},
   "outputs": [],
   "source": []
  }
 ],
 "metadata": {
  "kernelspec": {
   "display_name": "Python 3",
   "language": "python",
   "name": "python3"
  },
  "language_info": {
   "codemirror_mode": {
    "name": "ipython",
    "version": 3
   },
   "file_extension": ".py",
   "mimetype": "text/x-python",
   "name": "python",
   "nbconvert_exporter": "python",
   "pygments_lexer": "ipython3",
   "version": "3.6.4"
  }
 },
 "nbformat": 4,
 "nbformat_minor": 2
}
