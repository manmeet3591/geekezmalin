{
 "cells": [
  {
   "cell_type": "code",
   "execution_count": null,
   "metadata": {},
   "outputs": [],
   "source": [
    "# we need to compile the fortran code into something python can use\n",
    "!make"
   ]
  },
  {
   "cell_type": "code",
   "execution_count": null,
   "metadata": {},
   "outputs": [],
   "source": [
    "import xarray as xr\n",
    "import fill_msg_grid\n",
    "import numpy as np\n",
    "%matplotlib inline\n",
    "from matplotlib import cm"
   ]
  },
  {
   "cell_type": "code",
   "execution_count": null,
   "metadata": {},
   "outputs": [],
   "source": [
    "#---------------------------------------------------------------\n",
    "# sample data set (use make getdata to download WOA annual data)\n",
    "fnameT = 'woa13_5564_t00_01.nc'\n",
    "\n",
    "woa = xr.open_dataset(fnameT,decode_times=False)"
   ]
  },
  {
   "cell_type": "code",
   "execution_count": null,
   "metadata": {},
   "outputs": [],
   "source": [
    "plt.figure(figsize=[10,10])\n",
    "woa.t_an[0,0,:,:].plot(vmin=-2,vmax=30,cmap=cm.gist_ncar)\n"
   ]
  },
  {
   "cell_type": "code",
   "execution_count": null,
   "metadata": {},
   "outputs": [],
   "source": [
    "tsurf = woa.t_an[0,0,:,:].values\n",
    "tsurf[np.isnan(tsurf)] = 9999.\n",
    "tsurf"
   ]
  },
  {
   "cell_type": "code",
   "execution_count": null,
   "metadata": {},
   "outputs": [],
   "source": [
    "xmsg = 9999\n",
    "guess = 1                # guess = 1 zonal mean\n",
    "gtype = 1                # cyclic or not\n",
    "nscan = 1500             # usually much less than this\n",
    "epsx  = 1.e-4            # precision, variable dependent\n",
    "relc  = 0.6\n",
    "\n",
    "tsurf_extrp = fill_msg_grid.mod_poisson.poisxy1(tsurf.transpose(),xmsg, guess, gtype, nscan, epsx, relc).transpose()"
   ]
  },
  {
   "cell_type": "code",
   "execution_count": null,
   "metadata": {},
   "outputs": [],
   "source": [
    "import matplotlib.pylab as plt\n",
    "plt.figure(figsize=[10,10])\n",
    "plt.contourf(tsurf_extrp,50,vmin=-2,vmax=30,cmap=cm.gist_ncar)\n",
    "plt.show()"
   ]
  },
  {
   "cell_type": "code",
   "execution_count": null,
   "metadata": {},
   "outputs": [],
   "source": []
  }
 ],
 "metadata": {
  "kernelspec": {
   "display_name": "Python 3",
   "language": "python",
   "name": "python3"
  },
  "language_info": {
   "codemirror_mode": {
    "name": "ipython",
    "version": 3
   },
   "file_extension": ".py",
   "mimetype": "text/x-python",
   "name": "python",
   "nbconvert_exporter": "python",
   "pygments_lexer": "ipython3",
   "version": "3.6.4"
  }
 },
 "nbformat": 4,
 "nbformat_minor": 2
}
