{
 "cells": [
  {
   "cell_type": "markdown",
   "metadata": {},
   "source": [
    "# Regridding using ESMF with xESMF and ESMPy wrappers"
   ]
  },
  {
   "cell_type": "code",
   "execution_count": null,
   "metadata": {},
   "outputs": [],
   "source": [
    "# download our WOA data\n",
    "!wget https://data.nodc.noaa.gov/woa/WOA13/DATA/temperature/netcdf/5564/1.00/woa13_5564_t00_01.nc"
   ]
  },
  {
   "cell_type": "code",
   "execution_count": 1,
   "metadata": {},
   "outputs": [
    {
     "name": "stdout",
     "output_type": "stream",
     "text": [
      "--2018-07-09 13:04:56--  https://data.nodc.noaa.gov/woa/WOA13/DATA/temperature/netcdf/5564/1.00/woa13_5564_t00_01.nc\n",
      "Resolving data.nodc.noaa.gov (data.nodc.noaa.gov)... 140.90.235.40\n",
      "Connecting to data.nodc.noaa.gov (data.nodc.noaa.gov)|140.90.235.40|:443... connected.\n",
      "HTTP request sent, awaiting response... 200 OK\n",
      "Length: 185103203 (177M) [application/x-netcdf]\n",
      "Saving to: ‘woa13_5564_t00_01.nc.1’\n",
      "\n",
      "woa13_5564_t00_01.n 100%[===================>] 176.53M  6.66MB/s    in 27s     \n",
      "\n",
      "2018-07-09 13:05:23 (6.62 MB/s) - ‘woa13_5564_t00_01.nc.1’ saved [185103203/185103203]\n",
      "\n"
     ]
    }
   ],
   "source": [
    "woadir = './'"
   ]
  },
  {
   "cell_type": "code",
   "execution_count": 2,
   "metadata": {},
   "outputs": [
    {
     "name": "stdout",
     "output_type": "stream",
     "text": [
      "Populating the interactive namespace from numpy and matplotlib\n"
     ]
    },
    {
     "name": "stderr",
     "output_type": "stream",
     "text": [
      "/opt/anaconda3/5.1.0/lib/python3.6/site-packages/IPython/core/magics/pylab.py:160: UserWarning: pylab import has clobbered these variables: ['plt']\n",
      "`%matplotlib` prevents importing * from pylab and numpy\n",
      "  \"\\n`%matplotlib` prevents importing * from pylab and numpy\"\n"
     ]
    }
   ],
   "source": [
    "import xarray as xr\n",
    "import matplotlib.pylab as plt\n",
    "from matplotlib import cm\n",
    "%pylab inline"
   ]
  },
  {
   "cell_type": "code",
   "execution_count": 3,
   "metadata": {},
   "outputs": [],
   "source": [
    "woa = xr.open_dataset(woadir + 'woa13_5564_t00_01.nc',decode_times=False)"
   ]
  },
  {
   "cell_type": "code",
   "execution_count": 4,
   "metadata": {},
   "outputs": [
    {
     "data": {
      "text/plain": [
       "<xarray.Dataset>\n",
       "Dimensions:             (depth: 102, lat: 180, lon: 360, nbounds: 2, time: 1)\n",
       "Coordinates:\n",
       "  * lat                 (lat) float32 -89.5 -88.5 -87.5 -86.5 -85.5 -84.5 ...\n",
       "  * lon                 (lon) float32 -179.5 -178.5 -177.5 -176.5 -175.5 ...\n",
       "  * depth               (depth) float32 0.0 5.0 10.0 15.0 20.0 25.0 30.0 ...\n",
       "  * time                (time) float32 6.0\n",
       "Dimensions without coordinates: nbounds\n",
       "Data variables:\n",
       "    crs                 int32 ...\n",
       "    lat_bnds            (lat, nbounds) float32 ...\n",
       "    lon_bnds            (lon, nbounds) float32 ...\n",
       "    depth_bnds          (depth, nbounds) float32 ...\n",
       "    climatology_bounds  (time, nbounds) float32 ...\n",
       "    t_an                (time, depth, lat, lon) float32 ...\n",
       "    t_mn                (time, depth, lat, lon) float32 ...\n",
       "    t_dd                (time, depth, lat, lon) float64 ...\n",
       "    t_sd                (time, depth, lat, lon) float32 ...\n",
       "    t_se                (time, depth, lat, lon) float32 ...\n",
       "    t_oa                (time, depth, lat, lon) float32 ...\n",
       "    t_gp                (time, depth, lat, lon) float64 ...\n",
       "Attributes:\n",
       "    Conventions:                     CF-1.6\n",
       "    title:                           World Ocean Atlas 2013 : sea_water_tempe...\n",
       "    summary:                         Climatological mean temperature for the ...\n",
       "    references:                      Locarnini, R. A., A. V. Mishonov, J. I. ...\n",
       "    institution:                     National Oceanographic Data Center(NODC)\n",
       "    comment:                         global climatology as part of the World ...\n",
       "    id:                              SPECIAL\n",
       "    naming_authority:                gov.noaa.nodc\n",
       "    time_coverage_start:             0000-01-01\n",
       "    time_coverage_duration:          P01Y\n",
       "    time_coverage_resolution:        P01Y\n",
       "    geospatial_lat_min:              -90.0\n",
       "    geospatial_lat_max:              90.0\n",
       "    geospatial_lon_min:              -180.0\n",
       "    geospatial_lon_max:              180.0\n",
       "    geospatial_vertical_min:         0.0\n",
       "    geospatial_vertical_max:         5500.0\n",
       "    geospatial_lat_units:            degrees_north\n",
       "    geospatial_lat_resolution:       1.00 degrees\n",
       "    geospatial_lon_units:            degrees_east\n",
       "    geospatial_lon_resolution:       1.00 degrees\n",
       "    geospatial_vertical_units:       m\n",
       "    geospatial_vertical_resolution:  \n",
       "    geospatial_vertical_positive:    down\n",
       "    creator_name:                    Ocean Climate Laboratory\n",
       "    creator_email:                   NODC.Services@noaa.gov\n",
       "    creator_url:                     http://www.nodc.noaa.gov\n",
       "    project:                         World Ocean Atlas\n",
       "    processing_level:                processed\n",
       "    keywords:                        <ISO_TOPIC_Category> Oceans</ISO_TOPIC_C...\n",
       "    keywords_vocabulary:             ISO 19115\n",
       "    standard_name_vocabulary:        CF-1.6\n",
       "    contributor_name:                Ocean Climate Laboratory\n",
       "    contributor_role:                Calculation of climatologies\n",
       "    featureType:                     Grid\n",
       "    cdm_data_type:                   Grid\n",
       "    publisher_name:                  National Oceanographic Data Center\n",
       "    publisher_url:                   http://www.nodc.noaa.gov/\n",
       "    publisher_email:                 NODC.Services@noaa.gov\n",
       "    nodc_template_version:           NODC_NetCDF_Grid_Template_v1.0\n",
       "    license:                         These data are openly available to the p...\n",
       "    Metadata_Conventions:            Unidata Dataset Discovery v1.0\n",
       "    metadata_link:                   http://www.nodc.noaa.gov/OC5/WOA13/pr_wo...\n",
       "    date_created:                    2011-09-28 \n",
       "    date_modified:                   2011-09-28 "
      ]
     },
     "execution_count": 4,
     "metadata": {},
     "output_type": "execute_result"
    }
   ],
   "source": [
    "woa"
   ]
  },
  {
   "cell_type": "code",
   "execution_count": 5,
   "metadata": {},
   "outputs": [
    {
     "data": {
      "text/plain": [
       "<matplotlib.collections.QuadMesh at 0x30cf84320>"
      ]
     },
     "execution_count": 5,
     "metadata": {},
     "output_type": "execute_result"
    },
    {
     "data": {
      "image/png": "[encoded data removed]",
      "text/plain": [
       "<Figure size 432x288 with 2 Axes>"
      ]
     },
     "metadata": {},
     "output_type": "display_data"
    }
   ],
   "source": [
    "woa['t_an'].sel(depth=0).where(woa['t_an'].sel(depth=100) > 10).plot()"
   ]
  },
  {
   "cell_type": "code",
   "execution_count": 6,
   "metadata": {},
   "outputs": [
    {
     "name": "stdout",
     "output_type": "stream",
     "text": [
      "--2018-07-09 13:05:45--  http://oceanus.esm.rutgers.edu:8080/thredds/fileServer/ROMS/NWA/Inputs/NWA_grd.nc\n",
      "Resolving oceanus.esm.rutgers.edu (oceanus.esm.rutgers.edu)... 165.230.173.131\n",
      "Connecting to oceanus.esm.rutgers.edu (oceanus.esm.rutgers.edu)|165.230.173.131|:8080... connected.\n",
      "HTTP request sent, awaiting response... 200 OK\n",
      "Length: 71046252 (68M) [application/x-netcdf]\n",
      "Saving to: ‘NWA_grd.nc.1’\n",
      "\n",
      "NWA_grd.nc.1          4%[                    ]   3.37M   607KB/s    eta 90s    ^C\n"
     ]
    }
   ],
   "source": [
    "# download a ROMS irregular grid \n",
    "!wget http://oceanus.esm.rutgers.edu:8080/thredds/fileServer/ROMS/NWA/Inputs/NWA_grd.nc"
   ]
  },
  {
   "cell_type": "code",
   "execution_count": 7,
   "metadata": {},
   "outputs": [],
   "source": [
    "romsdir = './'"
   ]
  },
  {
   "cell_type": "code",
   "execution_count": 8,
   "metadata": {},
   "outputs": [],
   "source": [
    "roms_nwa = xr.open_dataset(romsdir + 'NWA_grd.nc')"
   ]
  },
  {
   "cell_type": "code",
   "execution_count": 9,
   "metadata": {},
   "outputs": [
    {
     "data": {
      "text/plain": [
       "<xarray.Dataset>\n",
       "Dimensions:     (bath: 1, eta_psi: 361, eta_rho: 362, eta_u: 362, eta_v: 361, eta_vert: 363, s_rho: 40, s_w: 41, xi_psi: 721, xi_rho: 722, xi_u: 721, xi_v: 722, xi_vert: 723)\n",
       "Coordinates:\n",
       "  * s_rho       (s_rho) float64 -0.9875 -0.9625 -0.9375 -0.9125 -0.8875 ...\n",
       "  * s_w         (s_w) float64 -1.0 -0.975 -0.95 -0.925 -0.9 -0.875 -0.85 ...\n",
       "Dimensions without coordinates: bath, eta_psi, eta_rho, eta_u, eta_v, eta_vert, xi_psi, xi_rho, xi_u, xi_v, xi_vert\n",
       "Data variables:\n",
       "    theta_s     float64 ...\n",
       "    theta_b     float64 ...\n",
       "    Tcline      float64 ...\n",
       "    hc          float64 ...\n",
       "    Cs_r        (s_rho) float64 ...\n",
       "    Cs_w        (s_w) float64 ...\n",
       "    h           (eta_rho, xi_rho) float64 ...\n",
       "    hraw        (bath, eta_rho, xi_rho) float64 ...\n",
       "    f           (eta_rho, xi_rho) float64 ...\n",
       "    pm          (eta_rho, xi_rho) float64 ...\n",
       "    pn          (eta_rho, xi_rho) float64 ...\n",
       "    dmde        (eta_rho, xi_rho) float64 ...\n",
       "    dndx        (eta_rho, xi_rho) float64 ...\n",
       "    xl          float64 ...\n",
       "    el          float64 ...\n",
       "    x_rho       (eta_rho, xi_rho) float64 ...\n",
       "    y_rho       (eta_rho, xi_rho) float64 ...\n",
       "    x_u         (eta_u, xi_u) float64 ...\n",
       "    y_u         (eta_u, xi_u) float64 ...\n",
       "    x_v         (eta_v, xi_v) float64 ...\n",
       "    y_v         (eta_v, xi_v) float64 ...\n",
       "    x_psi       (eta_psi, xi_psi) float64 ...\n",
       "    y_psi       (eta_psi, xi_psi) float64 ...\n",
       "    x_vert      (eta_vert, xi_vert) float64 ...\n",
       "    y_vert      (eta_vert, xi_vert) float64 ...\n",
       "    lon_rho     (eta_rho, xi_rho) float64 ...\n",
       "    lat_rho     (eta_rho, xi_rho) float64 ...\n",
       "    lon_u       (eta_u, xi_u) float64 ...\n",
       "    lat_u       (eta_u, xi_u) float64 ...\n",
       "    lon_v       (eta_v, xi_v) float64 ...\n",
       "    lat_v       (eta_v, xi_v) float64 ...\n",
       "    lon_psi     (eta_psi, xi_psi) float64 ...\n",
       "    lat_psi     (eta_psi, xi_psi) float64 ...\n",
       "    lon_vert    (eta_vert, xi_vert) float64 ...\n",
       "    lat_vert    (eta_vert, xi_vert) float64 ...\n",
       "    spherical   |S1 ...\n",
       "    angle       (eta_rho, xi_rho) float64 ...\n",
       "    mask_rho    (eta_rho, xi_rho) float64 ...\n",
       "    mask_u      (eta_u, xi_u) float64 ...\n",
       "    mask_v      (eta_v, xi_v) float64 ...\n",
       "    mask_psi    (eta_psi, xi_psi) float64 ...\n",
       "    wtype_grid  (eta_rho, xi_rho) float64 ...\n",
       "    rdrg_grid   (eta_rho, xi_rho) float64 ...\n",
       "Attributes:\n",
       "    Description:  ROMS grid\n",
       "    Author:       pyroms.grid.write_grd\n",
       "    Created:      2013-04-01T09:31:11.293024\n",
       "    type:         ROMS grid file"
      ]
     },
     "execution_count": 9,
     "metadata": {},
     "output_type": "execute_result"
    }
   ],
   "source": [
    "roms_nwa"
   ]
  },
  {
   "cell_type": "code",
   "execution_count": 10,
   "metadata": {},
   "outputs": [
    {
     "data": {
      "image/png": "[encoded data removed]",
      "text/plain": [
       "<Figure size 864x864 with 1 Axes>"
      ]
     },
     "metadata": {},
     "output_type": "display_data"
    }
   ],
   "source": [
    "plt.figure(figsize=[12,12])\n",
    "plt.pcolormesh(roms_nwa['lon_vert'].values,roms_nwa['lat_vert'].values,roms_nwa['mask_rho'].values)\n",
    "plt.show()"
   ]
  },
  {
   "cell_type": "markdown",
   "metadata": {},
   "source": [
    "## The easy way "
   ]
  },
  {
   "cell_type": "code",
   "execution_count": 11,
   "metadata": {},
   "outputs": [],
   "source": [
    "# using xESMF package, see http://xesmf.readthedocs.io/en/latest/installation.html for install\n",
    "import xesmf as xe"
   ]
  },
  {
   "cell_type": "code",
   "execution_count": 12,
   "metadata": {},
   "outputs": [
    {
     "data": {
      "text/plain": [
       "<xarray.Dataset>\n",
       "Dimensions:     (bath: 1, eta_psi: 361, eta_rho: 362, eta_u: 362, eta_v: 361, eta_vert: 363, s_rho: 40, s_w: 41, xi_psi: 721, xi_rho: 722, xi_u: 721, xi_v: 722, xi_vert: 723)\n",
       "Coordinates:\n",
       "  * s_rho       (s_rho) float64 -0.9875 -0.9625 -0.9375 -0.9125 -0.8875 ...\n",
       "  * s_w         (s_w) float64 -1.0 -0.975 -0.95 -0.925 -0.9 -0.875 -0.85 ...\n",
       "Dimensions without coordinates: bath, eta_psi, eta_rho, eta_u, eta_v, eta_vert, xi_psi, xi_rho, xi_u, xi_v, xi_vert\n",
       "Data variables:\n",
       "    theta_s     float64 ...\n",
       "    theta_b     float64 ...\n",
       "    Tcline      float64 ...\n",
       "    hc          float64 ...\n",
       "    Cs_r        (s_rho) float64 ...\n",
       "    Cs_w        (s_w) float64 ...\n",
       "    h           (eta_rho, xi_rho) float64 ...\n",
       "    hraw        (bath, eta_rho, xi_rho) float64 ...\n",
       "    f           (eta_rho, xi_rho) float64 ...\n",
       "    pm          (eta_rho, xi_rho) float64 ...\n",
       "    pn          (eta_rho, xi_rho) float64 ...\n",
       "    dmde        (eta_rho, xi_rho) float64 ...\n",
       "    dndx        (eta_rho, xi_rho) float64 ...\n",
       "    xl          float64 ...\n",
       "    el          float64 ...\n",
       "    x_rho       (eta_rho, xi_rho) float64 ...\n",
       "    y_rho       (eta_rho, xi_rho) float64 ...\n",
       "    x_u         (eta_u, xi_u) float64 ...\n",
       "    y_u         (eta_u, xi_u) float64 ...\n",
       "    x_v         (eta_v, xi_v) float64 ...\n",
       "    y_v         (eta_v, xi_v) float64 ...\n",
       "    x_psi       (eta_psi, xi_psi) float64 ...\n",
       "    y_psi       (eta_psi, xi_psi) float64 ...\n",
       "    x_vert      (eta_vert, xi_vert) float64 ...\n",
       "    y_vert      (eta_vert, xi_vert) float64 ...\n",
       "    lon         (eta_rho, xi_rho) float64 ...\n",
       "    lat         (eta_rho, xi_rho) float64 ...\n",
       "    lon_u       (eta_u, xi_u) float64 ...\n",
       "    lat_u       (eta_u, xi_u) float64 ...\n",
       "    lon_v       (eta_v, xi_v) float64 ...\n",
       "    lat_v       (eta_v, xi_v) float64 ...\n",
       "    lon_psi     (eta_psi, xi_psi) float64 ...\n",
       "    lat_psi     (eta_psi, xi_psi) float64 ...\n",
       "    lon_vert    (eta_vert, xi_vert) float64 275.5 275.6 275.6 275.7 275.7 ...\n",
       "    lat_vert    (eta_vert, xi_vert) float64 8.745 8.785 8.826 8.866 8.907 ...\n",
       "    spherical   |S1 ...\n",
       "    angle       (eta_rho, xi_rho) float64 ...\n",
       "    mask_rho    (eta_rho, xi_rho) float64 0.0 0.0 0.0 0.0 0.0 0.0 0.0 0.0 ...\n",
       "    mask_u      (eta_u, xi_u) float64 ...\n",
       "    mask_v      (eta_v, xi_v) float64 ...\n",
       "    mask_psi    (eta_psi, xi_psi) float64 ...\n",
       "    wtype_grid  (eta_rho, xi_rho) float64 ...\n",
       "    rdrg_grid   (eta_rho, xi_rho) float64 ...\n",
       "Attributes:\n",
       "    Description:  ROMS grid\n",
       "    Author:       pyroms.grid.write_grd\n",
       "    Created:      2013-04-01T09:31:11.293024\n",
       "    type:         ROMS grid file"
      ]
     },
     "execution_count": 12,
     "metadata": {},
     "output_type": "execute_result"
    }
   ],
   "source": [
    "# xESMF wants longitude and latitude names to be strictly lon, lat\n",
    "# so we rename\n",
    "roms_nwa.rename({'lon_rho':'lon','lat_rho':'lat'},inplace=True)"
   ]
  },
  {
   "cell_type": "code",
   "execution_count": 13,
   "metadata": {},
   "outputs": [
    {
     "name": "stdout",
     "output_type": "stream",
     "text": [
      "Overwrite existing file: patch_180x360_362x722_peri.nc \n",
      " You can set reuse_weights=True to save computing time.\n"
     ]
    }
   ],
   "source": [
    "# create a regridding method from WOA to NWA using high order patch interpolation\n",
    "regrid_patch = xe.Regridder(woa,roms_nwa,method='patch',periodic=True)\n",
    "# other method are possible : bilinear, nearest neighbor,...\n",
    "# conservative : add lon_b, lat_b (for bounds = corners, size (n+1,m+1))"
   ]
  },
  {
   "cell_type": "code",
   "execution_count": 14,
   "metadata": {},
   "outputs": [],
   "source": [
    "# interpolate temperature\n",
    "temp_out = regrid_patch(woa['t_an'])"
   ]
  },
  {
   "cell_type": "code",
   "execution_count": 15,
   "metadata": {},
   "outputs": [
    {
     "data": {
      "text/plain": [
       "<matplotlib.collections.QuadMesh at 0x31a028630>"
      ]
     },
     "execution_count": 15,
     "metadata": {},
     "output_type": "execute_result"
    },
    {
     "data": {
      "image/png": "[encoded data removed]",
      "text/plain": [
       "<Figure size 432x288 with 2 Axes>"
      ]
     },
     "metadata": {},
     "output_type": "display_data"
    }
   ],
   "source": [
    "# look at results\n",
    "temp_out.sel(depth=0).plot(cmap=cm.gist_ncar)"
   ]
  },
  {
   "cell_type": "code",
   "execution_count": 16,
   "metadata": {},
   "outputs": [
    {
     "data": {
      "image/png": "[encoded data removed]",
      "text/plain": [
       "<Figure size 864x864 with 1 Axes>"
      ]
     },
     "metadata": {},
     "output_type": "display_data"
    }
   ],
   "source": [
    "# let's do a (slightly) nicer plot\n",
    "plt.figure(figsize=[12,12])\n",
    "plt.contourf(roms_nwa['lon'].values,roms_nwa['lat'].values,temp_out.sel(depth=0).values.squeeze(),50,cmap=cm.gist_ncar)\n",
    "plt.show()"
   ]
  },
  {
   "cell_type": "code",
   "execution_count": 17,
   "metadata": {},
   "outputs": [],
   "source": [
    "# conservative interpolation : we need to create the corners of the cells\n",
    "lon = woa['lon']\n",
    "lat = woa['lat']\n",
    "\n",
    "# compute the extended array at cell center\n",
    "nx = lon.shape[0] ; ny = lat.shape[0]\n",
    "\n",
    "lon_extended = np.zeros((nx+2))\n",
    "lon_extended[1:-1] = lon.copy()\n",
    "lon_extended[0] = lon[0] - (lon[1]-lon[0])\n",
    "lon_extended[-1] = lon[-1] + (lon[-1]-lon[-2])\n",
    "\n",
    "lat_extended = np.zeros((ny+2))\n",
    "lat_extended[1:-1] = lat.copy()\n",
    "lat_extended[0] = max(-90. , lat[0] - (lat[1]-lat[0]))\n",
    "lat_extended[-1] = min(90. , lat[-1] + (lat[-1]-lat[-2]))\n",
    "\n",
    "# compute the cell corner values\n",
    "lon_corner = 0.5 * (lon_extended[:-1] + lon_extended[1:])\n",
    "lat_corner = 0.5 * (lat_extended[:-1] + lat_extended[1:])\n",
    "\n",
    "# make them 2d arrays\n",
    "lon_centers, lat_centers = np.meshgrid(lon,lat)\n",
    "lon_corners, lat_corners = np.meshgrid(lon_corner,lat_corner)\n",
    "\n",
    "woa['lon_b'] = xr.DataArray(lon_corners,dims=('lonp1','latp1'))\n",
    "woa['lat_b'] = xr.DataArray(lat_corners,dims=('lonp1','latp1'))"
   ]
  },
  {
   "cell_type": "code",
   "execution_count": 18,
   "metadata": {},
   "outputs": [
    {
     "data": {
      "text/plain": [
       "<xarray.Dataset>\n",
       "Dimensions:     (bath: 1, eta_psi: 361, eta_rho: 362, eta_u: 362, eta_v: 361, eta_vert: 363, s_rho: 40, s_w: 41, xi_psi: 721, xi_rho: 722, xi_u: 721, xi_v: 722, xi_vert: 723)\n",
       "Coordinates:\n",
       "  * s_rho       (s_rho) float64 -0.9875 -0.9625 -0.9375 -0.9125 -0.8875 ...\n",
       "  * s_w         (s_w) float64 -1.0 -0.975 -0.95 -0.925 -0.9 -0.875 -0.85 ...\n",
       "Dimensions without coordinates: bath, eta_psi, eta_rho, eta_u, eta_v, eta_vert, xi_psi, xi_rho, xi_u, xi_v, xi_vert\n",
       "Data variables:\n",
       "    theta_s     float64 ...\n",
       "    theta_b     float64 ...\n",
       "    Tcline      float64 ...\n",
       "    hc          float64 ...\n",
       "    Cs_r        (s_rho) float64 ...\n",
       "    Cs_w        (s_w) float64 ...\n",
       "    h           (eta_rho, xi_rho) float64 ...\n",
       "    hraw        (bath, eta_rho, xi_rho) float64 ...\n",
       "    f           (eta_rho, xi_rho) float64 ...\n",
       "    pm          (eta_rho, xi_rho) float64 ...\n",
       "    pn          (eta_rho, xi_rho) float64 ...\n",
       "    dmde        (eta_rho, xi_rho) float64 ...\n",
       "    dndx        (eta_rho, xi_rho) float64 ...\n",
       "    xl          float64 ...\n",
       "    el          float64 ...\n",
       "    x_rho       (eta_rho, xi_rho) float64 ...\n",
       "    y_rho       (eta_rho, xi_rho) float64 ...\n",
       "    x_u         (eta_u, xi_u) float64 ...\n",
       "    y_u         (eta_u, xi_u) float64 ...\n",
       "    x_v         (eta_v, xi_v) float64 ...\n",
       "    y_v         (eta_v, xi_v) float64 ...\n",
       "    x_psi       (eta_psi, xi_psi) float64 ...\n",
       "    y_psi       (eta_psi, xi_psi) float64 ...\n",
       "    x_vert      (eta_vert, xi_vert) float64 ...\n",
       "    y_vert      (eta_vert, xi_vert) float64 ...\n",
       "    lon         (eta_rho, xi_rho) float64 275.5 275.6 275.6 275.7 275.7 ...\n",
       "    lat         (eta_rho, xi_rho) float64 8.785 8.826 8.866 8.907 8.947 ...\n",
       "    lon_u       (eta_u, xi_u) float64 ...\n",
       "    lat_u       (eta_u, xi_u) float64 ...\n",
       "    lon_v       (eta_v, xi_v) float64 ...\n",
       "    lat_v       (eta_v, xi_v) float64 ...\n",
       "    lon_psi     (eta_psi, xi_psi) float64 ...\n",
       "    lat_psi     (eta_psi, xi_psi) float64 ...\n",
       "    lon_b       (eta_vert, xi_vert) float64 275.5 275.6 275.6 275.7 275.7 ...\n",
       "    lat_b       (eta_vert, xi_vert) float64 8.745 8.785 8.826 8.866 8.907 ...\n",
       "    spherical   |S1 ...\n",
       "    angle       (eta_rho, xi_rho) float64 ...\n",
       "    mask_rho    (eta_rho, xi_rho) float64 0.0 0.0 0.0 0.0 0.0 0.0 0.0 0.0 ...\n",
       "    mask_u      (eta_u, xi_u) float64 ...\n",
       "    mask_v      (eta_v, xi_v) float64 ...\n",
       "    mask_psi    (eta_psi, xi_psi) float64 ...\n",
       "    wtype_grid  (eta_rho, xi_rho) float64 ...\n",
       "    rdrg_grid   (eta_rho, xi_rho) float64 ...\n",
       "Attributes:\n",
       "    Description:  ROMS grid\n",
       "    Author:       pyroms.grid.write_grd\n",
       "    Created:      2013-04-01T09:31:11.293024\n",
       "    type:         ROMS grid file"
      ]
     },
     "execution_count": 18,
     "metadata": {},
     "output_type": "execute_result"
    }
   ],
   "source": [
    "# similarly xESMF wants corners to be named strictly\n",
    "roms_nwa.rename({'lon_vert':'lon_b','lat_vert':'lat_b'},inplace=True)"
   ]
  },
  {
   "cell_type": "code",
   "execution_count": 19,
   "metadata": {},
   "outputs": [
    {
     "name": "stdout",
     "output_type": "stream",
     "text": [
      "Overwrite existing file: conservative_180x360_362x722.nc \n",
      " You can set reuse_weights=True to save computing time.\n"
     ]
    }
   ],
   "source": [
    "# create conservative regridding method\n",
    "regrid_conserve = xe.Regridder(woa,roms_nwa,method='conservative',periodic=True)"
   ]
  },
  {
   "cell_type": "code",
   "execution_count": 20,
   "metadata": {},
   "outputs": [],
   "source": [
    "# and apply to temperature\n",
    "temp_out_conserve = regrid_conserve(woa['t_an'])"
   ]
  },
  {
   "cell_type": "code",
   "execution_count": 21,
   "metadata": {},
   "outputs": [
    {
     "data": {
      "image/png": "[encoded data removed]",
      "text/plain": [
       "<Figure size 864x864 with 1 Axes>"
      ]
     },
     "metadata": {},
     "output_type": "display_data"
    }
   ],
   "source": [
    "plt.figure(figsize=[12,12])\n",
    "plt.contourf(roms_nwa['lon'].values,roms_nwa['lat'].values,temp_out_conserve.sel(depth=0).values.squeeze(),\n",
    "             50,cmap=cm.gist_ncar)\n",
    "plt.show()"
   ]
  },
  {
   "cell_type": "markdown",
   "metadata": {},
   "source": [
    "## The not so easy way "
   ]
  },
  {
   "cell_type": "code",
   "execution_count": null,
   "metadata": {},
   "outputs": [],
   "source": [
    "import ESMF"
   ]
  },
  {
   "cell_type": "markdown",
   "metadata": {},
   "source": [
    "### Let's create a raw bathymetry"
   ]
  },
  {
   "cell_type": "code",
   "execution_count": null,
   "metadata": {},
   "outputs": [],
   "source": [
    "roms_nwa = xr.open_dataset(romsdir + 'NWA_grd.nc')"
   ]
  },
  {
   "cell_type": "markdown",
   "metadata": {},
   "source": [
    "#### ROMS ESMF grid"
   ]
  },
  {
   "cell_type": "code",
   "execution_count": null,
   "metadata": {},
   "outputs": [],
   "source": [
    "# create an ESMF target grid corresponding to our ROMS grid\n",
    "\n",
    "ny_target, nx_target = roms_nwa.lon_rho.shape\n",
    "esmf_grid_target = ESMF.Grid(np.array([nx_target,ny_target]))\n",
    "# cell center\n",
    "esmf_grid_target.add_coords(staggerloc=[ESMF.StaggerLoc.CENTER])\n",
    "esmf_grid_target.coords[ESMF.StaggerLoc.CENTER]\n",
    "esmf_grid_target.coords[ESMF.StaggerLoc.CENTER][0][:]=roms_nwa.lon_rho.transpose()\n",
    "esmf_grid_target.coords[ESMF.StaggerLoc.CENTER][1][:]=roms_nwa.lat_rho.transpose()\n",
    "# cell corner\n",
    "esmf_grid_target.add_coords(staggerloc=[ESMF.StaggerLoc.CORNER_VCENTER])\n",
    "esmf_grid_target.coords[ESMF.StaggerLoc.CORNER_VCENTER]\n",
    "esmf_grid_target.coords[ESMF.StaggerLoc.CORNER_VCENTER][0][:]=roms_nwa.lon_vert.transpose()\n",
    "esmf_grid_target.coords[ESMF.StaggerLoc.CORNER_VCENTER][1][:]=roms_nwa.lat_vert.transpose()\n",
    "# VERY IMPORTANT! if not set properly, this ruins the interpolation process\n",
    "# our domain is regional/not global, hence we must set:\n",
    "esmf_grid_target.is_sphere=False"
   ]
  },
  {
   "cell_type": "markdown",
   "metadata": {},
   "source": [
    "#### Etopo ESMF grid"
   ]
  },
  {
   "cell_type": "code",
   "execution_count": null,
   "metadata": {},
   "outputs": [],
   "source": [
    "# Bathy is taken from ETOPO1 website, select area and export to netcdf\n",
    "# my extraction is on byrd : ~rdussin/demo_files\n",
    "\n",
    "if byrd:\n",
    "    topodir = '~rdussin/demo_files/'\n",
    "else:\n",
    "    topodir = './'"
   ]
  },
  {
   "cell_type": "code",
   "execution_count": null,
   "metadata": {},
   "outputs": [],
   "source": [
    "# if we were using bilinear interpolation, we could use the ESMF built-in function to\n",
    "# read bathy file into grid object\n",
    "# esmf_grid_source = ESMF.Grid(filename='etopo1_bedrock.nc',filetype=ESMF.FileFormat.GRIDSPEC,is_sphere=False)\n",
    "\n",
    "# However it doesn't include the corners so we can either add the lon_bounds and lat_bounds array to the\n",
    "# file and add add_corner_stagger=True to the previous command or we can just read lon/lat from the file\n",
    "# and add the corners manually\n",
    "\n",
    "# read coords from netcdf file\n",
    "etopo = xr.open_dataset(topodir + 'etopo1_bedrock.nc')\n",
    "lon = etopo['lon'].values[::10]\n",
    "lat = etopo['lat'].values[::10]\n",
    "\n",
    "## VERY IMPORTANT !! I subsample for the sake of computational speed for demo purposes\n",
    "## don't do this in real like, that defeats the whole purpose\n",
    "\n",
    "# compute the extended array at cell center\n",
    "nx = lon.shape[0] ; ny = lat.shape[0]\n",
    "\n",
    "lon_extended = np.zeros((nx+2))\n",
    "lon_extended[1:-1] = lon.copy()\n",
    "lon_extended[0] = lon[0] - (lon[1]-lon[0])\n",
    "lon_extended[-1] = lon[-1] + (lon[-1]-lon[-2])\n",
    "\n",
    "lat_extended = np.zeros((ny+2))\n",
    "lat_extended[1:-1] = lat.copy()\n",
    "lat_extended[0] = max(-90. , lat[0] - (lat[1]-lat[0]))\n",
    "lat_extended[-1] = min(90. , lat[-1] + (lat[-1]-lat[-2]))\n",
    "\n",
    "# compute the cell corner values\n",
    "lon_corner = 0.5 * (lon_extended[:-1] + lon_extended[1:])\n",
    "lat_corner = 0.5 * (lat_extended[:-1] + lat_extended[1:])\n",
    "\n",
    "# make them 2d arrays\n",
    "lon_centers, lat_centers = np.meshgrid(lon,lat)\n",
    "lon_corners, lat_corners = np.meshgrid(lon_corner,lat_corner)\n",
    "\n",
    "# create an ESMF grid for the input bathy and add lon/lat for cells\n",
    "esmf_grid_source = ESMF.Grid(np.array([nx,ny]))\n",
    "# cell center\n",
    "esmf_grid_source.add_coords(staggerloc=[ESMF.StaggerLoc.CENTER])\n",
    "esmf_grid_source.coords[ESMF.StaggerLoc.CENTER]\n",
    "esmf_grid_source.coords[ESMF.StaggerLoc.CENTER][0][:]=lon_centers.T\n",
    "esmf_grid_source.coords[ESMF.StaggerLoc.CENTER][1][:]=lat_centers.T\n",
    "#cell corners\n",
    "esmf_grid_source.add_coords(staggerloc=[ESMF.StaggerLoc.CORNER_VCENTER])\n",
    "esmf_grid_source.coords[ESMF.StaggerLoc.CORNER_VCENTER]\n",
    "esmf_grid_source.coords[ESMF.StaggerLoc.CORNER_VCENTER][0][:]=lon_corners.T\n",
    "esmf_grid_source.coords[ESMF.StaggerLoc.CORNER_VCENTER][1][:]=lat_corners.T\n",
    "# our input bathy data is a regional extraction, hence we must set:\n",
    "esmf_grid_source.is_sphere=False"
   ]
  },
  {
   "cell_type": "markdown",
   "metadata": {},
   "source": [
    "#### run the regridding\n",
    "\n",
    "we are running a conservative regridding so conserve water depth. This step is gonna take a few minutes so it's a good time to go get a coffee "
   ]
  },
  {
   "cell_type": "code",
   "execution_count": null,
   "metadata": {},
   "outputs": [],
   "source": [
    "# Create a source field object for bathy located at the center of the grid cells\n",
    "esmf_field_source = ESMF.Field(esmf_grid_source, staggerloc=ESMF.StaggerLoc.CENTER)\n",
    "\n",
    "# and feed it to the field object\n",
    "esmf_field_source.data[:] = etopo.Band1.values[::10,::10].transpose() # CAREFUL : SUBSAMPLING FOR DEMO\n",
    "\n",
    "# Create a destination field object on the ROMS grid\n",
    "esmf_field_target = ESMF.Field(esmf_grid_target, staggerloc=ESMF.StaggerLoc.CENTER)\n",
    "\n",
    "# Set up a regridding method between source and destination\n",
    "regridding = ESMF.Regrid(esmf_field_source, esmf_field_target,\n",
    "                         regrid_method=ESMF.RegridMethod.CONSERVE)\n",
    "\n",
    "esmf_field_target = regridding(esmf_field_source, esmf_field_target)"
   ]
  },
  {
   "cell_type": "code",
   "execution_count": null,
   "metadata": {},
   "outputs": [],
   "source": [
    "# Check out our freshly interpolated bathymetry\n",
    "topo = esmf_field_target.data[:].transpose()\n",
    "\n",
    "plt.figure(figsize=[12,12])\n",
    "plt.pcolormesh(roms_nwa.lon_rho,roms_nwa.lat_rho,topo,cmap=cm.jet); plt.colorbar() ; plt.clim([-5000.,1000])\n",
    "plt.show()"
   ]
  },
  {
   "cell_type": "code",
   "execution_count": null,
   "metadata": {},
   "outputs": [],
   "source": []
  }
 ],
 "metadata": {
  "kernelspec": {
   "display_name": "Python 3",
   "language": "python",
   "name": "python3"
  },
  "language_info": {
   "codemirror_mode": {
    "name": "ipython",
    "version": 3
   },
   "file_extension": ".py",
   "mimetype": "text/x-python",
   "name": "python",
   "nbconvert_exporter": "python",
   "pygments_lexer": "ipython3",
   "version": "3.6.4"
  }
 },
 "nbformat": 4,
 "nbformat_minor": 2
}
